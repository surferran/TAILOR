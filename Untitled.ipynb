{
 "cells": [
  {
   "cell_type": "code",
   "execution_count": 2,
   "metadata": {},
   "outputs": [
    {
     "name": "stdout",
     "output_type": "stream",
     "text": [
      "0.12.16\n"
     ]
    }
   ],
   "source": [
    "import bokeh\n",
    "\n",
    "from os.path import dirname, join\n",
    "\n",
    "import pandas as pd\n",
    "\n",
    "from bokeh.layouts import row, widgetbox, layout, column\n",
    "from bokeh.models import ColumnDataSource, CustomJS\n",
    "from bokeh.models.widgets import Slider, Button, DataTable, TableColumn, NumberFormatter, CheckboxGroup, RadioGroup, Toggle\n",
    "from bokeh.io import curdoc\n",
    "\n",
    "from bokeh.server.server import Server\n",
    "from bokeh.application import Application\n",
    "from bokeh.application.handlers.function import FunctionHandler\n",
    "from bokeh.plotting import figure\n",
    "\n",
    "print (bokeh.__version__)"
   ]
  },
  {
   "cell_type": "code",
   "execution_count": 5,
   "metadata": {},
   "outputs": [],
   "source": [
    "\n",
    "def minimial_page_4_server_test(doc):\n",
    "    def button_reaction():\n",
    "        print(\"stopping server (self kill. restart)\")\n",
    "        server1.stop()\n",
    "    doc.title = \"**testing demo page**\"\n",
    "    toggle   = Button(label='kill server', button_type='success')  # Options: ‘default’, ‘primary’, ‘success’, ‘warning’, ‘danger’, ‘link’\n",
    "    toggle.on_click(button_reaction)\n",
    "    \n",
    "    img_path = './bokeh_pages/static/logoScrnSht.png'\n",
    "#    img_path = './static/logoScrnSht.png'\n",
    "#    img_path = r'C:\\Users\\Ran_the_User\\Documents\\GitHub\\TAILOR\\bokeh\\bokeh_pages\\static\\logoScrnSht.png'\n",
    "#    img_path = 'tree.png'\n",
    "    x_range = (-20,10) # could be anything - e.g.(0,1)\n",
    "    y_range = (20,30)\n",
    "#    x_range = (0,1) # could be anything - e.g.(0,1)\n",
    "#    y_range = (0,1)\n",
    "    factor = 1.2\n",
    "    figImg = figure(x_range=x_range, y_range=y_range)\n",
    "#    figImg.image_url(url=[img_path], x=x_range[0], y=y_range[1], w=x_range[1]-x_range[0], h=y_range[1]-y_range[0], anchor=\"bottom_left\")\n",
    "    figImg.image_url(url=[img_path], x=x_range[0]/factor, y=y_range[0]*factor, w=(x_range[1]-x_range[0])/factor, h=(y_range[1]-y_range[0])/factor) #, anchor=\"bottom_left\")\n",
    "    \n",
    "    if __name__!='__main__':    \n",
    "        doc().add_root(toggle)\n",
    "        doc().add_root(figImg)    \n",
    "    else:\n",
    "        doc.add_root(toggle)\n",
    "        doc.add_root(figImg)    \n"
   ]
  },
  {
   "cell_type": "code",
   "execution_count": null,
   "metadata": {
    "collapsed": true
   },
   "outputs": [],
   "source": []
  }
 ],
 "metadata": {
  "kernelspec": {
   "display_name": "Python 3",
   "language": "python",
   "name": "python3"
  },
  "language_info": {
   "codemirror_mode": {
    "name": "ipython",
    "version": 3
   },
   "file_extension": ".py",
   "mimetype": "text/x-python",
   "name": "python",
   "nbconvert_exporter": "python",
   "pygments_lexer": "ipython3",
   "version": "3.6.5"
  }
 },
 "nbformat": 4,
 "nbformat_minor": 2
}
