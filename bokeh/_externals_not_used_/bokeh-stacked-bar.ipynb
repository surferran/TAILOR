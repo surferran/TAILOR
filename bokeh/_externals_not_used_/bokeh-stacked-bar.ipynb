{
 "cells": [
  {
   "cell_type": "code",
   "execution_count": 1,
   "metadata": {
    "collapsed": true
   },
   "outputs": [],
   "source": [
    "%matplotlib inline"
   ]
  },
  {
   "cell_type": "code",
   "execution_count": 2,
   "metadata": {
    "collapsed": false
   },
   "outputs": [
    {
     "data": {
      "text/html": [
       "\n",
       "    <div class=\"bk-banner\">\n",
       "        <a href=\"http://bokeh.pydata.org\" target=\"_blank\" class=\"bk-logo bk-logo-small bk-logo-notebook\"></a>\n",
       "        <span id=\"537453be-e234-4c54-afbb-a1f390071c29\">Loading BokehJS ...</span>\n",
       "    </div>"
      ]
     },
     "metadata": {},
     "output_type": "display_data"
    },
    {
     "data": {
      "application/javascript": [
       "\n",
       "(function(global) {\n",
       "  function now() {\n",
       "    return new Date();\n",
       "  }\n",
       "\n",
       "  if (typeof (window._bokeh_onload_callbacks) === \"undefined\") {\n",
       "    window._bokeh_onload_callbacks = [];\n",
       "  }\n",
       "\n",
       "  function run_callbacks() {\n",
       "    window._bokeh_onload_callbacks.forEach(function(callback) { callback() });\n",
       "    delete window._bokeh_onload_callbacks\n",
       "    console.info(\"Bokeh: all callbacks have finished\");\n",
       "  }\n",
       "\n",
       "  function load_libs(js_urls, callback) {\n",
       "    window._bokeh_onload_callbacks.push(callback);\n",
       "    if (window._bokeh_is_loading > 0) {\n",
       "      console.log(\"Bokeh: BokehJS is being loaded, scheduling callback at\", now());\n",
       "      return null;\n",
       "    }\n",
       "    if (js_urls == null || js_urls.length === 0) {\n",
       "      run_callbacks();\n",
       "      return null;\n",
       "    }\n",
       "    console.log(\"Bokeh: BokehJS not loaded, scheduling load and callback at\", now());\n",
       "    window._bokeh_is_loading = js_urls.length;\n",
       "    for (var i = 0; i < js_urls.length; i++) {\n",
       "      var url = js_urls[i];\n",
       "      var s = document.createElement('script');\n",
       "      s.src = url;\n",
       "      s.async = false;\n",
       "      s.onreadystatechange = s.onload = function() {\n",
       "        window._bokeh_is_loading--;\n",
       "        if (window._bokeh_is_loading === 0) {\n",
       "          console.log(\"Bokeh: all BokehJS libraries loaded\");\n",
       "          run_callbacks()\n",
       "        }\n",
       "      };\n",
       "      s.onerror = function() {\n",
       "        console.warn(\"failed to load library \" + url);\n",
       "      };\n",
       "      console.log(\"Bokeh: injecting script tag for BokehJS library: \", url);\n",
       "      document.getElementsByTagName(\"head\")[0].appendChild(s);\n",
       "    }\n",
       "  };\n",
       "\n",
       "  var js_urls = ['https://cdn.pydata.org/bokeh/release/bokeh-0.11.1.min.js', 'https://cdn.pydata.org/bokeh/release/bokeh-widgets-0.11.1.min.js', 'https://cdn.pydata.org/bokeh/release/bokeh-compiler-0.11.1.min.js'];\n",
       "\n",
       "  var inline_js = [\n",
       "    function(Bokeh) {\n",
       "      Bokeh.set_log_level(\"info\");\n",
       "    },\n",
       "    \n",
       "    function(Bokeh) {\n",
       "      Bokeh.$(\"#537453be-e234-4c54-afbb-a1f390071c29\").text(\"BokehJS successfully loaded\");\n",
       "    },\n",
       "    function(Bokeh) {\n",
       "      console.log(\"Bokeh: injecting CSS: https://cdn.pydata.org/bokeh/release/bokeh-0.11.1.min.css\");\n",
       "      Bokeh.embed.inject_css(\"https://cdn.pydata.org/bokeh/release/bokeh-0.11.1.min.css\");\n",
       "      console.log(\"Bokeh: injecting CSS: https://cdn.pydata.org/bokeh/release/bokeh-widgets-0.11.1.min.css\");\n",
       "      Bokeh.embed.inject_css(\"https://cdn.pydata.org/bokeh/release/bokeh-widgets-0.11.1.min.css\");\n",
       "    }\n",
       "  ];\n",
       "\n",
       "  function run_inline_js() {\n",
       "    for (var i = 0; i < inline_js.length; i++) {\n",
       "      inline_js[i](window.Bokeh);\n",
       "    }\n",
       "  }\n",
       "\n",
       "  if (window._bokeh_is_loading === 0) {\n",
       "    console.log(\"Bokeh: BokehJS loaded, going straight to plotting\");\n",
       "    run_inline_js();\n",
       "  } else {\n",
       "    load_libs(js_urls, function() {\n",
       "      console.log(\"Bokeh: BokehJS plotting callback run at\", now());\n",
       "      run_inline_js();\n",
       "    });\n",
       "  }\n",
       "}(this));"
      ]
     },
     "metadata": {},
     "output_type": "display_data"
    }
   ],
   "source": [
    "import bokeh.plotting as plt\n",
    "plt.output_notebook()"
   ]
  },
  {
   "cell_type": "code",
   "execution_count": 3,
   "metadata": {
    "collapsed": true
   },
   "outputs": [],
   "source": [
    "from bokeh.charts import Bar\n",
    "from bokeh.charts.operations import blend\n",
    "from bokeh.charts.attributes import cat, color"
   ]
  },
  {
   "cell_type": "code",
   "execution_count": 4,
   "metadata": {
    "collapsed": false
   },
   "outputs": [
    {
     "data": {
      "text/html": [
       "<div>\n",
       "<table border=\"1\" class=\"dataframe\">\n",
       "  <thead>\n",
       "    <tr style=\"text-align: right;\">\n",
       "      <th></th>\n",
       "      <th>A</th>\n",
       "      <th>B</th>\n",
       "      <th>C</th>\n",
       "    </tr>\n",
       "  </thead>\n",
       "  <tbody>\n",
       "    <tr>\n",
       "      <th>1</th>\n",
       "      <td>16</td>\n",
       "      <td>10</td>\n",
       "      <td>17</td>\n",
       "    </tr>\n",
       "    <tr>\n",
       "      <th>2</th>\n",
       "      <td>33</td>\n",
       "      <td>24</td>\n",
       "      <td>22</td>\n",
       "    </tr>\n",
       "    <tr>\n",
       "      <th>3</th>\n",
       "      <td>40</td>\n",
       "      <td>51</td>\n",
       "      <td>37</td>\n",
       "    </tr>\n",
       "    <tr>\n",
       "      <th>4</th>\n",
       "      <td>60</td>\n",
       "      <td>55</td>\n",
       "      <td>82</td>\n",
       "    </tr>\n",
       "    <tr>\n",
       "      <th>5</th>\n",
       "      <td>89</td>\n",
       "      <td>78</td>\n",
       "      <td>99</td>\n",
       "    </tr>\n",
       "  </tbody>\n",
       "</table>\n",
       "</div>"
      ],
      "text/plain": [
       "    A   B   C\n",
       "1  16  10  17\n",
       "2  33  24  22\n",
       "3  40  51  37\n",
       "4  60  55  82\n",
       "5  89  78  99"
      ]
     },
     "execution_count": 4,
     "metadata": {},
     "output_type": "execute_result"
    }
   ],
   "source": [
    "index = pd.Index([1,2,3,4,5], label='period')\n",
    "columns = pd.Index(['A', 'B', 'C'], label='categories')\n",
    "values = randint(10, 100, 15).reshape(5, 3)\n",
    "values.sort(axis=0)\n",
    "df = pd.DataFrame(values, index, columns)\n",
    "original_df = df.copy()\n",
    "original_df"
   ]
  },
  {
   "cell_type": "code",
   "execution_count": 5,
   "metadata": {
    "collapsed": false
   },
   "outputs": [
    {
     "data": {
      "image/png": "[encoded data removed]",
      "text/plain": [
       "<matplotlib.figure.Figure at 0x8ee0a58>"
      ]
     },
     "metadata": {},
     "output_type": "display_data"
    }
   ],
   "source": [
    "df.plot.bar(stacked=True);"
   ]
  },
  {
   "cell_type": "markdown",
   "metadata": {},
   "source": [
    "<hr>"
   ]
  },
  {
   "cell_type": "code",
   "execution_count": 6,
   "metadata": {
    "collapsed": false
   },
   "outputs": [
    {
     "data": {
      "text/html": [
       "<div>\n",
       "<table border=\"1\" class=\"dataframe\">\n",
       "  <thead>\n",
       "    <tr style=\"text-align: right;\">\n",
       "      <th></th>\n",
       "      <th>level_0</th>\n",
       "      <th>level_1</th>\n",
       "      <th>0</th>\n",
       "    </tr>\n",
       "  </thead>\n",
       "  <tbody>\n",
       "    <tr>\n",
       "      <th>0</th>\n",
       "      <td>A</td>\n",
       "      <td>1</td>\n",
       "      <td>16</td>\n",
       "    </tr>\n",
       "    <tr>\n",
       "      <th>1</th>\n",
       "      <td>A</td>\n",
       "      <td>2</td>\n",
       "      <td>33</td>\n",
       "    </tr>\n",
       "    <tr>\n",
       "      <th>2</th>\n",
       "      <td>A</td>\n",
       "      <td>3</td>\n",
       "      <td>40</td>\n",
       "    </tr>\n",
       "    <tr>\n",
       "      <th>3</th>\n",
       "      <td>A</td>\n",
       "      <td>4</td>\n",
       "      <td>60</td>\n",
       "    </tr>\n",
       "    <tr>\n",
       "      <th>4</th>\n",
       "      <td>A</td>\n",
       "      <td>5</td>\n",
       "      <td>89</td>\n",
       "    </tr>\n",
       "    <tr>\n",
       "      <th>5</th>\n",
       "      <td>B</td>\n",
       "      <td>1</td>\n",
       "      <td>10</td>\n",
       "    </tr>\n",
       "    <tr>\n",
       "      <th>6</th>\n",
       "      <td>B</td>\n",
       "      <td>2</td>\n",
       "      <td>24</td>\n",
       "    </tr>\n",
       "    <tr>\n",
       "      <th>7</th>\n",
       "      <td>B</td>\n",
       "      <td>3</td>\n",
       "      <td>51</td>\n",
       "    </tr>\n",
       "    <tr>\n",
       "      <th>8</th>\n",
       "      <td>B</td>\n",
       "      <td>4</td>\n",
       "      <td>55</td>\n",
       "    </tr>\n",
       "    <tr>\n",
       "      <th>9</th>\n",
       "      <td>B</td>\n",
       "      <td>5</td>\n",
       "      <td>78</td>\n",
       "    </tr>\n",
       "    <tr>\n",
       "      <th>10</th>\n",
       "      <td>C</td>\n",
       "      <td>1</td>\n",
       "      <td>17</td>\n",
       "    </tr>\n",
       "    <tr>\n",
       "      <th>11</th>\n",
       "      <td>C</td>\n",
       "      <td>2</td>\n",
       "      <td>22</td>\n",
       "    </tr>\n",
       "    <tr>\n",
       "      <th>12</th>\n",
       "      <td>C</td>\n",
       "      <td>3</td>\n",
       "      <td>37</td>\n",
       "    </tr>\n",
       "    <tr>\n",
       "      <th>13</th>\n",
       "      <td>C</td>\n",
       "      <td>4</td>\n",
       "      <td>82</td>\n",
       "    </tr>\n",
       "    <tr>\n",
       "      <th>14</th>\n",
       "      <td>C</td>\n",
       "      <td>5</td>\n",
       "      <td>99</td>\n",
       "    </tr>\n",
       "  </tbody>\n",
       "</table>\n",
       "</div>"
      ],
      "text/plain": [
       "   level_0  level_1   0\n",
       "0        A        1  16\n",
       "1        A        2  33\n",
       "2        A        3  40\n",
       "3        A        4  60\n",
       "4        A        5  89\n",
       "5        B        1  10\n",
       "6        B        2  24\n",
       "7        B        3  51\n",
       "8        B        4  55\n",
       "9        B        5  78\n",
       "10       C        1  17\n",
       "11       C        2  22\n",
       "12       C        3  37\n",
       "13       C        4  82\n",
       "14       C        5  99"
      ]
     },
     "execution_count": 6,
     "metadata": {},
     "output_type": "execute_result"
    }
   ],
   "source": [
    "tmp = df.unstack().reset_index()\n",
    "tmp.columns = list(map(str, tmp.columns)) # bokeh requires column labels to be strings\n",
    "tmp"
   ]
  },
  {
   "cell_type": "code",
   "execution_count": 7,
   "metadata": {
    "collapsed": false
   },
   "outputs": [
    {
     "data": {
      "text/html": [
       "\n",
       "\n",
       "    <div class=\"plotdiv\" id=\"c0094604-137a-4360-a788-e8311619465c\"></div>\n",
       "<script type=\"text/javascript\">\n",
       "  \n",
       "  (function(global) {\n",
       "    function now() {\n",
       "      return new Date();\n",
       "    }\n",
       "  \n",
       "    if (typeof (window._bokeh_onload_callbacks) === \"undefined\") {\n",
       "      window._bokeh_onload_callbacks = [];\n",
       "    }\n",
       "  \n",
       "    function run_callbacks() {\n",
       "      window._bokeh_onload_callbacks.forEach(function(callback) { callback() });\n",
       "      delete window._bokeh_onload_callbacks\n",
       "      console.info(\"Bokeh: all callbacks have finished\");\n",
       "    }\n",
       "  \n",
       "    function load_libs(js_urls, callback) {\n",
       "      window._bokeh_onload_callbacks.push(callback);\n",
       "      if (window._bokeh_is_loading > 0) {\n",
       "        console.log(\"Bokeh: BokehJS is being loaded, scheduling callback at\", now());\n",
       "        return null;\n",
       "      }\n",
       "      if (js_urls == null || js_urls.length === 0) {\n",
       "        run_callbacks();\n",
       "        return null;\n",
       "      }\n",
       "      console.log(\"Bokeh: BokehJS not loaded, scheduling load and callback at\", now());\n",
       "      window._bokeh_is_loading = js_urls.length;\n",
       "      for (var i = 0; i < js_urls.length; i++) {\n",
       "        var url = js_urls[i];\n",
       "        var s = document.createElement('script');\n",
       "        s.src = url;\n",
       "        s.async = false;\n",
       "        s.onreadystatechange = s.onload = function() {\n",
       "          window._bokeh_is_loading--;\n",
       "          if (window._bokeh_is_loading === 0) {\n",
       "            console.log(\"Bokeh: all BokehJS libraries loaded\");\n",
       "            run_callbacks()\n",
       "          }\n",
       "        };\n",
       "        s.onerror = function() {\n",
       "          console.warn(\"failed to load library \" + url);\n",
       "        };\n",
       "        console.log(\"Bokeh: injecting script tag for BokehJS library: \", url);\n",
       "        document.getElementsByTagName(\"head\")[0].appendChild(s);\n",
       "      }\n",
       "    };var element = document.getElementById(\"c0094604-137a-4360-a788-e8311619465c\");\n",
       "    if (element == null) {\n",
       "      console.log(\"Bokeh: ERROR: autoload.js configured with elementid 'c0094604-137a-4360-a788-e8311619465c' but no matching script tag was found. \")\n",
       "      return false;\n",
       "    }\n",
       "  \n",
       "    var js_urls = [];\n",
       "  \n",
       "    var inline_js = [\n",
       "      function(Bokeh) {\n",
       "        Bokeh.$(function() {\n",
       "            var docs_json = {\"994a396a-c352-4e20-b7cf-cf3616e816f0\":{\"roots\":{\"references\":[{\"attributes\":{\"plot\":{\"id\":\"19169c10-a87b-4cc9-a264-81f2d2e2b381\",\"subtype\":\"Chart\",\"type\":\"Plot\"}},\"id\":\"c6e476b2-3b04-4445-a567-3ce6f4ef62c9\",\"type\":\"ResetTool\"},{\"attributes\":{\"plot\":{\"id\":\"19169c10-a87b-4cc9-a264-81f2d2e2b381\",\"subtype\":\"Chart\",\"type\":\"Plot\"}},\"id\":\"2ad47ecf-fc85-455c-923c-35e94996c122\",\"type\":\"PanTool\"},{\"attributes\":{\"data_source\":{\"id\":\"65cbe2a0-255e-4614-903b-2bb8ca5bee77\",\"type\":\"ColumnDataSource\"},\"glyph\":{\"id\":\"bfe4d131-9c49-4294-be9e-b728c5d738bc\",\"type\":\"Rect\"},\"hover_glyph\":null,\"nonselection_glyph\":null,\"selection_glyph\":null},\"id\":\"62f5da90-0ea1-4aab-8662-7d0911a21c9b\",\"type\":\"GlyphRenderer\"},{\"attributes\":{},\"id\":\"aa8c1403-379c-44e6-9029-48acc3da022b\",\"type\":\"CategoricalTickFormatter\"},{\"attributes\":{\"plot\":{\"id\":\"19169c10-a87b-4cc9-a264-81f2d2e2b381\",\"subtype\":\"Chart\",\"type\":\"Plot\"}},\"id\":\"848b7d98-3a85-4f1f-9ab6-477b4d517844\",\"type\":\"PreviewSaveTool\"},{\"attributes\":{\"callback\":null,\"column_names\":[\"width\",\"color\",\"line_alpha\",\"height\",\"y\",\"x\",\"fill_alpha\",\"line_color\"],\"data\":{\"chart_index\":[{\"level_0\":\"C\",\"level_1\":4}],\"color\":[\"#407ee7\"],\"fill_alpha\":[0.8],\"height\":[82.0],\"level_0\":[\"C\"],\"level_1\":[4],\"line_alpha\":[1.0],\"line_color\":[\"white\"],\"width\":[0.8],\"x\":[\"4\"],\"y\":[156.0]}},\"id\":\"65cbe2a0-255e-4614-903b-2bb8ca5bee77\",\"type\":\"ColumnDataSource\"},{\"attributes\":{\"fill_alpha\":{\"field\":\"fill_alpha\"},\"fill_color\":{\"field\":\"color\"},\"height\":{\"field\":\"height\",\"units\":\"data\"},\"line_color\":{\"field\":\"line_color\"},\"width\":{\"field\":\"width\",\"units\":\"data\"},\"x\":{\"field\":\"x\"},\"y\":{\"field\":\"y\"}},\"id\":\"bfe4d131-9c49-4294-be9e-b728c5d738bc\",\"type\":\"Rect\"},{\"attributes\":{\"plot\":{\"id\":\"19169c10-a87b-4cc9-a264-81f2d2e2b381\",\"subtype\":\"Chart\",\"type\":\"Plot\"}},\"id\":\"570522b5-8a0e-4ef3-abc7-a84b68557100\",\"type\":\"WheelZoomTool\"},{\"attributes\":{\"fill_alpha\":{\"field\":\"fill_alpha\"},\"fill_color\":{\"field\":\"color\"},\"height\":{\"field\":\"height\",\"units\":\"data\"},\"line_color\":{\"field\":\"line_color\"},\"width\":{\"field\":\"width\",\"units\":\"data\"},\"x\":{\"field\":\"x\"},\"y\":{\"field\":\"y\"}},\"id\":\"5195933a-ab2e-472c-95c4-d511229e9b02\",\"type\":\"Rect\"},{\"attributes\":{\"fill_alpha\":{\"field\":\"fill_alpha\"},\"fill_color\":{\"field\":\"color\"},\"height\":{\"field\":\"height\",\"units\":\"data\"},\"line_color\":{\"field\":\"line_color\"},\"width\":{\"field\":\"width\",\"units\":\"data\"},\"x\":{\"field\":\"x\"},\"y\":{\"field\":\"y\"}},\"id\":\"9a2ca850-d81c-49f5-a74f-0897d68580ac\",\"type\":\"Rect\"},{\"attributes\":{\"callback\":null,\"end\":279.3},\"id\":\"afdf4e34-0387-440b-b2b5-9c8aa0606263\",\"type\":\"Range1d\"},{\"attributes\":{\"fill_alpha\":{\"field\":\"fill_alpha\"},\"fill_color\":{\"field\":\"color\"},\"height\":{\"field\":\"height\",\"units\":\"data\"},\"line_color\":{\"field\":\"line_color\"},\"width\":{\"field\":\"width\",\"units\":\"data\"},\"x\":{\"field\":\"x\"},\"y\":{\"field\":\"y\"}},\"id\":\"5d5cb10b-000c-4ace-932a-419c81ffb234\",\"type\":\"Rect\"},{\"attributes\":{\"fill_alpha\":{\"field\":\"fill_alpha\"},\"fill_color\":{\"field\":\"color\"},\"height\":{\"field\":\"height\",\"units\":\"data\"},\"line_color\":{\"field\":\"line_color\"},\"width\":{\"field\":\"width\",\"units\":\"data\"},\"x\":{\"field\":\"x\"},\"y\":{\"field\":\"y\"}},\"id\":\"cd34b4a0-1bf5-4408-b112-af8449b65c82\",\"type\":\"Rect\"},{\"attributes\":{},\"id\":\"575bed52-9751-4d08-9048-54570187aa0b\",\"type\":\"CategoricalTicker\"},{\"attributes\":{\"fill_alpha\":{\"field\":\"fill_alpha\"},\"fill_color\":{\"field\":\"color\"},\"height\":{\"field\":\"height\",\"units\":\"data\"},\"line_color\":{\"field\":\"line_color\"},\"width\":{\"field\":\"width\",\"units\":\"data\"},\"x\":{\"field\":\"x\"},\"y\":{\"field\":\"y\"}},\"id\":\"f5f97cb5-ea85-4e1b-bb7a-4ce7ccc40d34\",\"type\":\"Rect\"},{\"attributes\":{},\"id\":\"d43b6f29-8c95-4ed4-8dc0-7bf277b7cbdf\",\"type\":\"BasicTicker\"},{\"attributes\":{\"dimension\":1,\"plot\":{\"id\":\"19169c10-a87b-4cc9-a264-81f2d2e2b381\",\"subtype\":\"Chart\",\"type\":\"Plot\"},\"ticker\":{\"id\":\"d43b6f29-8c95-4ed4-8dc0-7bf277b7cbdf\",\"type\":\"BasicTicker\"}},\"id\":\"ca8e1d26-0408-49ad-99f3-2b03025160d2\",\"type\":\"Grid\"},{\"attributes\":{\"callback\":null,\"column_names\":[\"width\",\"color\",\"line_alpha\",\"height\",\"y\",\"x\",\"fill_alpha\",\"line_color\"],\"data\":{\"chart_index\":[{\"level_0\":\"C\",\"level_1\":1}],\"color\":[\"#407ee7\"],\"fill_alpha\":[0.8],\"height\":[17.0],\"level_0\":[\"C\"],\"level_1\":[1],\"line_alpha\":[1.0],\"line_color\":[\"white\"],\"width\":[0.8],\"x\":[\"1\"],\"y\":[34.5]}},\"id\":\"a8e50584-e81b-4b51-bea2-de9e114d88ee\",\"type\":\"ColumnDataSource\"},{\"attributes\":{\"data_source\":{\"id\":\"4a73afeb-947c-49d8-95af-94e9630cc449\",\"type\":\"ColumnDataSource\"},\"glyph\":{\"id\":\"9a2ca850-d81c-49f5-a74f-0897d68580ac\",\"type\":\"Rect\"},\"hover_glyph\":null,\"nonselection_glyph\":null,\"selection_glyph\":null},\"id\":\"edfb96ca-9177-452a-9cfe-a541f194d0e0\",\"type\":\"GlyphRenderer\"},{\"attributes\":{\"fill_alpha\":{\"field\":\"fill_alpha\"},\"fill_color\":{\"field\":\"color\"},\"height\":{\"field\":\"height\",\"units\":\"data\"},\"line_color\":{\"field\":\"line_color\"},\"width\":{\"field\":\"width\",\"units\":\"data\"},\"x\":{\"field\":\"x\"},\"y\":{\"field\":\"y\"}},\"id\":\"2a89fd52-da42-45d2-b0e2-43f69876bf25\",\"type\":\"Rect\"},{\"attributes\":{\"fill_alpha\":{\"field\":\"fill_alpha\"},\"fill_color\":{\"field\":\"color\"},\"height\":{\"field\":\"height\",\"units\":\"data\"},\"line_color\":{\"field\":\"line_color\"},\"width\":{\"field\":\"width\",\"units\":\"data\"},\"x\":{\"field\":\"x\"},\"y\":{\"field\":\"y\"}},\"id\":\"784194b8-9159-4eb4-9ffd-7c95fffd1d76\",\"type\":\"Rect\"},{\"attributes\":{\"data_source\":{\"id\":\"c327f863-d761-4efb-a0df-996af814b8b3\",\"type\":\"ColumnDataSource\"},\"glyph\":{\"id\":\"15d2e78c-2836-4381-860e-89257d7b0574\",\"type\":\"Rect\"},\"hover_glyph\":null,\"nonselection_glyph\":null,\"selection_glyph\":null},\"id\":\"9d7b3331-3e38-420c-9b1f-17b0c497ae8a\",\"type\":\"GlyphRenderer\"},{\"attributes\":{\"fill_alpha\":{\"field\":\"fill_alpha\"},\"fill_color\":{\"field\":\"color\"},\"height\":{\"field\":\"height\",\"units\":\"data\"},\"line_color\":{\"field\":\"line_color\"},\"width\":{\"field\":\"width\",\"units\":\"data\"},\"x\":{\"field\":\"x\"},\"y\":{\"field\":\"y\"}},\"id\":\"740e1d0a-6a50-4763-8ce6-2e746b50f9e1\",\"type\":\"Rect\"},{\"attributes\":{\"axis_label\":\"Level_1\",\"formatter\":{\"id\":\"aa8c1403-379c-44e6-9029-48acc3da022b\",\"type\":\"CategoricalTickFormatter\"},\"major_label_orientation\":0.7853981633974483,\"plot\":{\"id\":\"19169c10-a87b-4cc9-a264-81f2d2e2b381\",\"subtype\":\"Chart\",\"type\":\"Plot\"},\"ticker\":{\"id\":\"575bed52-9751-4d08-9048-54570187aa0b\",\"type\":\"CategoricalTicker\"}},\"id\":\"8b69f929-ee38-458f-86a7-f9fdc3eb3887\",\"type\":\"CategoricalAxis\"},{\"attributes\":{\"callback\":null,\"column_names\":[\"width\",\"color\",\"line_alpha\",\"height\",\"y\",\"x\",\"fill_alpha\",\"line_color\"],\"data\":{\"chart_index\":[{\"level_0\":\"B\",\"level_1\":4}],\"color\":[\"#5ab738\"],\"fill_alpha\":[0.8],\"height\":[55.0],\"level_0\":[\"B\"],\"level_1\":[4],\"line_alpha\":[1.0],\"line_color\":[\"white\"],\"width\":[0.8],\"x\":[\"4\"],\"y\":[87.5]}},\"id\":\"7d16e0ca-c9a7-48d3-97b9-88778cba2fc4\",\"type\":\"ColumnDataSource\"},{\"attributes\":{\"data_source\":{\"id\":\"249f7f71-79db-4528-bc66-8d166f26eaa0\",\"type\":\"ColumnDataSource\"},\"glyph\":{\"id\":\"b003f934-8239-4665-aaa0-d7aab3ef6fa4\",\"type\":\"Rect\"},\"hover_glyph\":null,\"nonselection_glyph\":null,\"selection_glyph\":null},\"id\":\"87a5f776-4b60-48bd-ab64-1f07b77b1267\",\"type\":\"GlyphRenderer\"},{\"attributes\":{\"fill_alpha\":{\"field\":\"fill_alpha\"},\"fill_color\":{\"field\":\"color\"},\"height\":{\"field\":\"height\",\"units\":\"data\"},\"line_color\":{\"field\":\"line_color\"},\"width\":{\"field\":\"width\",\"units\":\"data\"},\"x\":{\"field\":\"x\"},\"y\":{\"field\":\"y\"}},\"id\":\"63de03b7-5469-4280-8a67-3273dd1277c1\",\"type\":\"Rect\"},{\"attributes\":{\"callback\":null,\"column_names\":[\"width\",\"color\",\"line_alpha\",\"height\",\"y\",\"x\",\"fill_alpha\",\"line_color\"],\"data\":{\"chart_index\":[{\"level_0\":\"B\",\"level_1\":5}],\"color\":[\"#5ab738\"],\"fill_alpha\":[0.8],\"height\":[78.0],\"level_0\":[\"B\"],\"level_1\":[5],\"line_alpha\":[1.0],\"line_color\":[\"white\"],\"width\":[0.8],\"x\":[\"5\"],\"y\":[128.0]}},\"id\":\"1710cd01-a4f8-4f70-a22a-9eb388b215bd\",\"type\":\"ColumnDataSource\"},{\"attributes\":{\"data_source\":{\"id\":\"645d72d8-7a85-41f5-99ea-44f80f4ac4cc\",\"type\":\"ColumnDataSource\"},\"glyph\":{\"id\":\"df5af3dd-5761-486e-8f74-af2ae324c1b6\",\"type\":\"Rect\"},\"hover_glyph\":null,\"nonselection_glyph\":null,\"selection_glyph\":null},\"id\":\"35d03c32-d440-47de-9798-864acced95a2\",\"type\":\"GlyphRenderer\"},{\"attributes\":{\"data_source\":{\"id\":\"26fe273e-4d96-41e6-ab09-652ad0b9cf11\",\"type\":\"ColumnDataSource\"},\"glyph\":{\"id\":\"784194b8-9159-4eb4-9ffd-7c95fffd1d76\",\"type\":\"Rect\"},\"hover_glyph\":null,\"nonselection_glyph\":null,\"selection_glyph\":null},\"id\":\"d0480487-59e7-4a43-8608-026843265fac\",\"type\":\"GlyphRenderer\"},{\"attributes\":{\"callback\":null,\"column_names\":[\"width\",\"color\",\"line_alpha\",\"height\",\"y\",\"x\",\"fill_alpha\",\"line_color\"],\"data\":{\"chart_index\":[{\"level_0\":\"B\",\"level_1\":1}],\"color\":[\"#5ab738\"],\"fill_alpha\":[0.8],\"height\":[10.0],\"level_0\":[\"B\"],\"level_1\":[1],\"line_alpha\":[1.0],\"line_color\":[\"white\"],\"width\":[0.8],\"x\":[\"1\"],\"y\":[21.0]}},\"id\":\"89daccd7-a963-4358-b18d-d1300f3b701d\",\"type\":\"ColumnDataSource\"},{\"attributes\":{\"data_source\":{\"id\":\"ece75a61-9d51-4f02-952b-4c0af174f2c4\",\"type\":\"ColumnDataSource\"},\"glyph\":{\"id\":\"5195933a-ab2e-472c-95c4-d511229e9b02\",\"type\":\"Rect\"},\"hover_glyph\":null,\"nonselection_glyph\":null,\"selection_glyph\":null},\"id\":\"c766190c-523f-480a-97d7-d05fbba940f1\",\"type\":\"GlyphRenderer\"},{\"attributes\":{\"axis_label\":\"Sum( 0 )\",\"formatter\":{\"id\":\"958a39c6-b054-4d56-96ef-3d086708954f\",\"type\":\"BasicTickFormatter\"},\"plot\":{\"id\":\"19169c10-a87b-4cc9-a264-81f2d2e2b381\",\"subtype\":\"Chart\",\"type\":\"Plot\"},\"ticker\":{\"id\":\"d43b6f29-8c95-4ed4-8dc0-7bf277b7cbdf\",\"type\":\"BasicTicker\"}},\"id\":\"0e43f284-3c87-4d29-a5fa-5c06ce283115\",\"type\":\"LinearAxis\"},{\"attributes\":{\"callback\":null,\"column_names\":[\"width\",\"color\",\"line_alpha\",\"height\",\"y\",\"x\",\"fill_alpha\",\"line_color\"],\"data\":{\"chart_index\":[{\"level_0\":\"A\",\"level_1\":1}],\"color\":[\"#f22c40\"],\"fill_alpha\":[0.8],\"height\":[16.0],\"level_0\":[\"A\"],\"level_1\":[1],\"line_alpha\":[1.0],\"line_color\":[\"white\"],\"width\":[0.8],\"x\":[\"1\"],\"y\":[8.0]}},\"id\":\"3e4aa68f-0c25-4b8e-8ba5-a49c2549f8dd\",\"type\":\"ColumnDataSource\"},{\"attributes\":{\"fill_alpha\":{\"field\":\"fill_alpha\"},\"fill_color\":{\"field\":\"color\"},\"height\":{\"field\":\"height\",\"units\":\"data\"},\"line_color\":{\"field\":\"line_color\"},\"width\":{\"field\":\"width\",\"units\":\"data\"},\"x\":{\"field\":\"x\"},\"y\":{\"field\":\"y\"}},\"id\":\"7d13f5c5-5099-40b6-8934-d50cd8db6e2b\",\"type\":\"Rect\"},{\"attributes\":{\"callback\":null,\"column_names\":[\"width\",\"color\",\"line_alpha\",\"height\",\"y\",\"x\",\"fill_alpha\",\"line_color\"],\"data\":{\"chart_index\":[{\"level_0\":\"C\",\"level_1\":5}],\"color\":[\"#407ee7\"],\"fill_alpha\":[0.8],\"height\":[99.0],\"level_0\":[\"C\"],\"level_1\":[5],\"line_alpha\":[1.0],\"line_color\":[\"white\"],\"width\":[0.8],\"x\":[\"5\"],\"y\":[216.5]}},\"id\":\"c327f863-d761-4efb-a0df-996af814b8b3\",\"type\":\"ColumnDataSource\"},{\"attributes\":{},\"id\":\"c5cf7973-5dd9-4463-9b9d-2c7919e51c77\",\"type\":\"ToolEvents\"},{\"attributes\":{\"legends\":[[\"A\",[{\"id\":\"060525f4-97d5-4ca6-a5ce-2c14806806d8\",\"type\":\"GlyphRenderer\"}]],[\"B\",[{\"id\":\"254b3323-f330-4dc4-8604-d33a9dc40dec\",\"type\":\"GlyphRenderer\"}]],[\"C\",[{\"id\":\"310a2b67-d372-48df-8cad-3f0aa7430025\",\"type\":\"GlyphRenderer\"}]]],\"location\":\"top_left\",\"plot\":{\"id\":\"19169c10-a87b-4cc9-a264-81f2d2e2b381\",\"subtype\":\"Chart\",\"type\":\"Plot\"}},\"id\":\"bb1e7a4a-6531-48ea-9829-3983f14b44ed\",\"type\":\"Legend\"},{\"attributes\":{\"data_source\":{\"id\":\"1710cd01-a4f8-4f70-a22a-9eb388b215bd\",\"type\":\"ColumnDataSource\"},\"glyph\":{\"id\":\"2a89fd52-da42-45d2-b0e2-43f69876bf25\",\"type\":\"Rect\"},\"hover_glyph\":null,\"nonselection_glyph\":null,\"selection_glyph\":null},\"id\":\"9c8b2ea2-9a1f-4c00-b094-2b4da9957a0f\",\"type\":\"GlyphRenderer\"},{\"attributes\":{\"callback\":null,\"column_names\":[\"width\",\"color\",\"line_alpha\",\"height\",\"y\",\"x\",\"fill_alpha\",\"line_color\"],\"data\":{\"chart_index\":[{\"level_0\":\"A\",\"level_1\":5}],\"color\":[\"#f22c40\"],\"fill_alpha\":[0.8],\"height\":[89.0],\"level_0\":[\"A\"],\"level_1\":[5],\"line_alpha\":[1.0],\"line_color\":[\"white\"],\"width\":[0.8],\"x\":[\"5\"],\"y\":[44.5]}},\"id\":\"c4883f25-73cc-4e88-b7ed-ef8b1e24986f\",\"type\":\"ColumnDataSource\"},{\"attributes\":{\"callback\":null,\"column_names\":[\"width\",\"color\",\"line_alpha\",\"height\",\"y\",\"x\",\"fill_alpha\",\"line_color\"],\"data\":{\"chart_index\":[{\"level_0\":\"B\",\"level_1\":2}],\"color\":[\"#5ab738\"],\"fill_alpha\":[0.8],\"height\":[24.0],\"level_0\":[\"B\"],\"level_1\":[2],\"line_alpha\":[1.0],\"line_color\":[\"white\"],\"width\":[0.8],\"x\":[\"2\"],\"y\":[45.0]}},\"id\":\"4a9e5a8a-5201-414c-a5b9-bd219fead533\",\"type\":\"ColumnDataSource\"},{\"attributes\":{\"fill_alpha\":{\"field\":\"fill_alpha\"},\"fill_color\":{\"field\":\"color\"},\"height\":{\"field\":\"height\",\"units\":\"data\"},\"line_color\":{\"field\":\"line_color\"},\"width\":{\"field\":\"width\",\"units\":\"data\"},\"x\":{\"field\":\"x\"},\"y\":{\"field\":\"y\"}},\"id\":\"15d2e78c-2836-4381-860e-89257d7b0574\",\"type\":\"Rect\"},{\"attributes\":{\"callback\":null,\"column_names\":[\"width\",\"color\",\"line_alpha\",\"height\",\"y\",\"x\",\"fill_alpha\",\"line_color\"],\"data\":{\"chart_index\":[{\"level_0\":\"A\",\"level_1\":4}],\"color\":[\"#f22c40\"],\"fill_alpha\":[0.8],\"height\":[60.0],\"level_0\":[\"A\"],\"level_1\":[4],\"line_alpha\":[1.0],\"line_color\":[\"white\"],\"width\":[0.8],\"x\":[\"4\"],\"y\":[30.0]}},\"id\":\"249f7f71-79db-4528-bc66-8d166f26eaa0\",\"type\":\"ColumnDataSource\"},{\"attributes\":{\"below\":[{\"id\":\"8b69f929-ee38-458f-86a7-f9fdc3eb3887\",\"type\":\"CategoricalAxis\"}],\"left\":[{\"id\":\"0e43f284-3c87-4d29-a5fa-5c06ce283115\",\"type\":\"LinearAxis\"}],\"legend\":true,\"renderers\":[{\"id\":\"f58bae04-67e4-4e85-9f73-fd1942ba22a6\",\"type\":\"BoxAnnotation\"},{\"id\":\"060525f4-97d5-4ca6-a5ce-2c14806806d8\",\"type\":\"GlyphRenderer\"},{\"id\":\"edfb96ca-9177-452a-9cfe-a541f194d0e0\",\"type\":\"GlyphRenderer\"},{\"id\":\"d0480487-59e7-4a43-8608-026843265fac\",\"type\":\"GlyphRenderer\"},{\"id\":\"87a5f776-4b60-48bd-ab64-1f07b77b1267\",\"type\":\"GlyphRenderer\"},{\"id\":\"f30f18b6-3db3-4bf3-a0be-d6e8925b193b\",\"type\":\"GlyphRenderer\"},{\"id\":\"254b3323-f330-4dc4-8604-d33a9dc40dec\",\"type\":\"GlyphRenderer\"},{\"id\":\"15a3fed1-afeb-44e6-a6cb-c5e47de94119\",\"type\":\"GlyphRenderer\"},{\"id\":\"ce6a6b6d-86f9-4c7f-9fed-77ee403c50e2\",\"type\":\"GlyphRenderer\"},{\"id\":\"d37e145c-d981-46f5-a28a-42b584e5d881\",\"type\":\"GlyphRenderer\"},{\"id\":\"9c8b2ea2-9a1f-4c00-b094-2b4da9957a0f\",\"type\":\"GlyphRenderer\"},{\"id\":\"310a2b67-d372-48df-8cad-3f0aa7430025\",\"type\":\"GlyphRenderer\"},{\"id\":\"c766190c-523f-480a-97d7-d05fbba940f1\",\"type\":\"GlyphRenderer\"},{\"id\":\"35d03c32-d440-47de-9798-864acced95a2\",\"type\":\"GlyphRenderer\"},{\"id\":\"62f5da90-0ea1-4aab-8662-7d0911a21c9b\",\"type\":\"GlyphRenderer\"},{\"id\":\"9d7b3331-3e38-420c-9b1f-17b0c497ae8a\",\"type\":\"GlyphRenderer\"},{\"id\":\"bb1e7a4a-6531-48ea-9829-3983f14b44ed\",\"type\":\"Legend\"},{\"id\":\"8b69f929-ee38-458f-86a7-f9fdc3eb3887\",\"type\":\"CategoricalAxis\"},{\"id\":\"0e43f284-3c87-4d29-a5fa-5c06ce283115\",\"type\":\"LinearAxis\"},{\"id\":\"ca8e1d26-0408-49ad-99f3-2b03025160d2\",\"type\":\"Grid\"}],\"title_text_font_size\":{\"value\":\"14pt\"},\"tool_events\":{\"id\":\"c5cf7973-5dd9-4463-9b9d-2c7919e51c77\",\"type\":\"ToolEvents\"},\"tools\":[{\"id\":\"2ad47ecf-fc85-455c-923c-35e94996c122\",\"type\":\"PanTool\"},{\"id\":\"570522b5-8a0e-4ef3-abc7-a84b68557100\",\"type\":\"WheelZoomTool\"},{\"id\":\"f7ea7e0b-e229-49ba-91d5-ff111680b82f\",\"type\":\"BoxZoomTool\"},{\"id\":\"848b7d98-3a85-4f1f-9ab6-477b4d517844\",\"type\":\"PreviewSaveTool\"},{\"id\":\"4fb568aa-10d2-4f96-985f-e2465e709602\",\"type\":\"ResizeTool\"},{\"id\":\"c6e476b2-3b04-4445-a567-3ce6f4ef62c9\",\"type\":\"ResetTool\"},{\"id\":\"9fe58896-cdfd-4254-86f7-b03887eea8db\",\"type\":\"HelpTool\"}],\"x_mapper_type\":\"auto\",\"x_range\":{\"id\":\"84ea0660-1425-4200-9139-2d46900b633b\",\"type\":\"FactorRange\"},\"xgrid\":false,\"xscale\":\"auto\",\"y_mapper_type\":\"auto\",\"y_range\":{\"id\":\"afdf4e34-0387-440b-b2b5-9c8aa0606263\",\"type\":\"Range1d\"},\"yscale\":\"auto\"},\"id\":\"19169c10-a87b-4cc9-a264-81f2d2e2b381\",\"subtype\":\"Chart\",\"type\":\"Plot\"},{\"attributes\":{\"fill_alpha\":{\"field\":\"fill_alpha\"},\"fill_color\":{\"field\":\"color\"},\"height\":{\"field\":\"height\",\"units\":\"data\"},\"line_color\":{\"field\":\"line_color\"},\"width\":{\"field\":\"width\",\"units\":\"data\"},\"x\":{\"field\":\"x\"},\"y\":{\"field\":\"y\"}},\"id\":\"df5af3dd-5761-486e-8f74-af2ae324c1b6\",\"type\":\"Rect\"},{\"attributes\":{\"plot\":{\"id\":\"19169c10-a87b-4cc9-a264-81f2d2e2b381\",\"subtype\":\"Chart\",\"type\":\"Plot\"}},\"id\":\"4fb568aa-10d2-4f96-985f-e2465e709602\",\"type\":\"ResizeTool\"},{\"attributes\":{\"fill_alpha\":{\"field\":\"fill_alpha\"},\"fill_color\":{\"field\":\"color\"},\"height\":{\"field\":\"height\",\"units\":\"data\"},\"line_color\":{\"field\":\"line_color\"},\"width\":{\"field\":\"width\",\"units\":\"data\"},\"x\":{\"field\":\"x\"},\"y\":{\"field\":\"y\"}},\"id\":\"b003f934-8239-4665-aaa0-d7aab3ef6fa4\",\"type\":\"Rect\"},{\"attributes\":{\"plot\":{\"id\":\"19169c10-a87b-4cc9-a264-81f2d2e2b381\",\"subtype\":\"Chart\",\"type\":\"Plot\"}},\"id\":\"9fe58896-cdfd-4254-86f7-b03887eea8db\",\"type\":\"HelpTool\"},{\"attributes\":{\"data_source\":{\"id\":\"bd711ba4-a126-4671-825c-0fcceea0dea7\",\"type\":\"ColumnDataSource\"},\"glyph\":{\"id\":\"f5f97cb5-ea85-4e1b-bb7a-4ce7ccc40d34\",\"type\":\"Rect\"},\"hover_glyph\":null,\"nonselection_glyph\":null,\"selection_glyph\":null},\"id\":\"ce6a6b6d-86f9-4c7f-9fed-77ee403c50e2\",\"type\":\"GlyphRenderer\"},{\"attributes\":{\"data_source\":{\"id\":\"a8e50584-e81b-4b51-bea2-de9e114d88ee\",\"type\":\"ColumnDataSource\"},\"glyph\":{\"id\":\"63de03b7-5469-4280-8a67-3273dd1277c1\",\"type\":\"Rect\"},\"hover_glyph\":null,\"nonselection_glyph\":null,\"selection_glyph\":null},\"id\":\"310a2b67-d372-48df-8cad-3f0aa7430025\",\"type\":\"GlyphRenderer\"},{\"attributes\":{\"callback\":null,\"column_names\":[\"width\",\"color\",\"line_alpha\",\"height\",\"y\",\"x\",\"fill_alpha\",\"line_color\"],\"data\":{\"chart_index\":[{\"level_0\":\"B\",\"level_1\":3}],\"color\":[\"#5ab738\"],\"fill_alpha\":[0.8],\"height\":[51.0],\"level_0\":[\"B\"],\"level_1\":[3],\"line_alpha\":[1.0],\"line_color\":[\"white\"],\"width\":[0.8],\"x\":[\"3\"],\"y\":[65.5]}},\"id\":\"bd711ba4-a126-4671-825c-0fcceea0dea7\",\"type\":\"ColumnDataSource\"},{\"attributes\":{\"data_source\":{\"id\":\"3e4aa68f-0c25-4b8e-8ba5-a49c2549f8dd\",\"type\":\"ColumnDataSource\"},\"glyph\":{\"id\":\"7d13f5c5-5099-40b6-8934-d50cd8db6e2b\",\"type\":\"Rect\"},\"hover_glyph\":null,\"nonselection_glyph\":null,\"selection_glyph\":null},\"id\":\"060525f4-97d5-4ca6-a5ce-2c14806806d8\",\"type\":\"GlyphRenderer\"},{\"attributes\":{\"bottom_units\":\"screen\",\"fill_alpha\":{\"value\":0.5},\"fill_color\":{\"value\":\"lightgrey\"},\"left_units\":\"screen\",\"level\":\"overlay\",\"line_alpha\":{\"value\":1.0},\"line_color\":{\"value\":\"black\"},\"line_dash\":[4,4],\"line_width\":{\"value\":2},\"plot\":null,\"render_mode\":\"css\",\"right_units\":\"screen\",\"top_units\":\"screen\"},\"id\":\"f58bae04-67e4-4e85-9f73-fd1942ba22a6\",\"type\":\"BoxAnnotation\"},{\"attributes\":{\"data_source\":{\"id\":\"89daccd7-a963-4358-b18d-d1300f3b701d\",\"type\":\"ColumnDataSource\"},\"glyph\":{\"id\":\"cd34b4a0-1bf5-4408-b112-af8449b65c82\",\"type\":\"Rect\"},\"hover_glyph\":null,\"nonselection_glyph\":null,\"selection_glyph\":null},\"id\":\"254b3323-f330-4dc4-8604-d33a9dc40dec\",\"type\":\"GlyphRenderer\"},{\"attributes\":{},\"id\":\"958a39c6-b054-4d56-96ef-3d086708954f\",\"type\":\"BasicTickFormatter\"},{\"attributes\":{\"data_source\":{\"id\":\"4a9e5a8a-5201-414c-a5b9-bd219fead533\",\"type\":\"ColumnDataSource\"},\"glyph\":{\"id\":\"5d5cb10b-000c-4ace-932a-419c81ffb234\",\"type\":\"Rect\"},\"hover_glyph\":null,\"nonselection_glyph\":null,\"selection_glyph\":null},\"id\":\"15a3fed1-afeb-44e6-a6cb-c5e47de94119\",\"type\":\"GlyphRenderer\"},{\"attributes\":{\"callback\":null,\"column_names\":[\"width\",\"color\",\"line_alpha\",\"height\",\"y\",\"x\",\"fill_alpha\",\"line_color\"],\"data\":{\"chart_index\":[{\"level_0\":\"C\",\"level_1\":3}],\"color\":[\"#407ee7\"],\"fill_alpha\":[0.8],\"height\":[37.0],\"level_0\":[\"C\"],\"level_1\":[3],\"line_alpha\":[1.0],\"line_color\":[\"white\"],\"width\":[0.8],\"x\":[\"3\"],\"y\":[109.5]}},\"id\":\"645d72d8-7a85-41f5-99ea-44f80f4ac4cc\",\"type\":\"ColumnDataSource\"},{\"attributes\":{\"callback\":null,\"factors\":[\"1\",\"2\",\"3\",\"4\",\"5\"]},\"id\":\"84ea0660-1425-4200-9139-2d46900b633b\",\"type\":\"FactorRange\"},{\"attributes\":{\"data_source\":{\"id\":\"7d16e0ca-c9a7-48d3-97b9-88778cba2fc4\",\"type\":\"ColumnDataSource\"},\"glyph\":{\"id\":\"740e1d0a-6a50-4763-8ce6-2e746b50f9e1\",\"type\":\"Rect\"},\"hover_glyph\":null,\"nonselection_glyph\":null,\"selection_glyph\":null},\"id\":\"d37e145c-d981-46f5-a28a-42b584e5d881\",\"type\":\"GlyphRenderer\"},{\"attributes\":{\"data_source\":{\"id\":\"c4883f25-73cc-4e88-b7ed-ef8b1e24986f\",\"type\":\"ColumnDataSource\"},\"glyph\":{\"id\":\"f2ca7c88-2b91-4e27-b0f5-e053b53caa7e\",\"type\":\"Rect\"},\"hover_glyph\":null,\"nonselection_glyph\":null,\"selection_glyph\":null},\"id\":\"f30f18b6-3db3-4bf3-a0be-d6e8925b193b\",\"type\":\"GlyphRenderer\"},{\"attributes\":{\"callback\":null,\"column_names\":[\"width\",\"color\",\"line_alpha\",\"height\",\"y\",\"x\",\"fill_alpha\",\"line_color\"],\"data\":{\"chart_index\":[{\"level_0\":\"C\",\"level_1\":2}],\"color\":[\"#407ee7\"],\"fill_alpha\":[0.8],\"height\":[22.0],\"level_0\":[\"C\"],\"level_1\":[2],\"line_alpha\":[1.0],\"line_color\":[\"white\"],\"width\":[0.8],\"x\":[\"2\"],\"y\":[68.0]}},\"id\":\"ece75a61-9d51-4f02-952b-4c0af174f2c4\",\"type\":\"ColumnDataSource\"},{\"attributes\":{\"overlay\":{\"id\":\"f58bae04-67e4-4e85-9f73-fd1942ba22a6\",\"type\":\"BoxAnnotation\"},\"plot\":{\"id\":\"19169c10-a87b-4cc9-a264-81f2d2e2b381\",\"subtype\":\"Chart\",\"type\":\"Plot\"}},\"id\":\"f7ea7e0b-e229-49ba-91d5-ff111680b82f\",\"type\":\"BoxZoomTool\"},{\"attributes\":{\"callback\":null,\"column_names\":[\"width\",\"color\",\"line_alpha\",\"height\",\"y\",\"x\",\"fill_alpha\",\"line_color\"],\"data\":{\"chart_index\":[{\"level_0\":\"A\",\"level_1\":2}],\"color\":[\"#f22c40\"],\"fill_alpha\":[0.8],\"height\":[33.0],\"level_0\":[\"A\"],\"level_1\":[2],\"line_alpha\":[1.0],\"line_color\":[\"white\"],\"width\":[0.8],\"x\":[\"2\"],\"y\":[16.5]}},\"id\":\"4a73afeb-947c-49d8-95af-94e9630cc449\",\"type\":\"ColumnDataSource\"},{\"attributes\":{\"callback\":null,\"column_names\":[\"width\",\"color\",\"line_alpha\",\"height\",\"y\",\"x\",\"fill_alpha\",\"line_color\"],\"data\":{\"chart_index\":[{\"level_0\":\"A\",\"level_1\":3}],\"color\":[\"#f22c40\"],\"fill_alpha\":[0.8],\"height\":[40.0],\"level_0\":[\"A\"],\"level_1\":[3],\"line_alpha\":[1.0],\"line_color\":[\"white\"],\"width\":[0.8],\"x\":[\"3\"],\"y\":[20.0]}},\"id\":\"26fe273e-4d96-41e6-ab09-652ad0b9cf11\",\"type\":\"ColumnDataSource\"},{\"attributes\":{\"fill_alpha\":{\"field\":\"fill_alpha\"},\"fill_color\":{\"field\":\"color\"},\"height\":{\"field\":\"height\",\"units\":\"data\"},\"line_color\":{\"field\":\"line_color\"},\"width\":{\"field\":\"width\",\"units\":\"data\"},\"x\":{\"field\":\"x\"},\"y\":{\"field\":\"y\"}},\"id\":\"f2ca7c88-2b91-4e27-b0f5-e053b53caa7e\",\"type\":\"Rect\"}],\"root_ids\":[\"19169c10-a87b-4cc9-a264-81f2d2e2b381\"]},\"title\":\"Bokeh Application\",\"version\":\"0.11.1\"}};\n",
       "            var render_items = [{\"docid\":\"994a396a-c352-4e20-b7cf-cf3616e816f0\",\"elementid\":\"c0094604-137a-4360-a788-e8311619465c\",\"modelid\":\"19169c10-a87b-4cc9-a264-81f2d2e2b381\",\"notebook_comms_target\":\"a214e87f-fbf7-4bc0-a684-f494338e246f\"}];\n",
       "            \n",
       "            Bokeh.embed.embed_items(docs_json, render_items);\n",
       "        });\n",
       "      },\n",
       "      function(Bokeh) {\n",
       "      }\n",
       "    ];\n",
       "  \n",
       "    function run_inline_js() {\n",
       "      for (var i = 0; i < inline_js.length; i++) {\n",
       "        inline_js[i](window.Bokeh);\n",
       "      }\n",
       "    }\n",
       "  \n",
       "    if (window._bokeh_is_loading === 0) {\n",
       "      console.log(\"Bokeh: BokehJS loaded, going straight to plotting\");\n",
       "      run_inline_js();\n",
       "    } else {\n",
       "      load_libs(js_urls, function() {\n",
       "        console.log(\"Bokeh: BokehJS plotting callback run at\", now());\n",
       "        run_inline_js();\n",
       "      });\n",
       "    }\n",
       "  }(this));\n",
       "</script>"
      ]
     },
     "metadata": {},
     "output_type": "display_data"
    }
   ],
   "source": [
    "fig = Bar(tmp, stack=tmp.columns[0], label=tmp.columns[1], values=tmp.columns[2], legend=True)\n",
    "plt.show(fig);"
   ]
  },
  {
   "cell_type": "code",
   "execution_count": 8,
   "metadata": {
    "collapsed": true
   },
   "outputs": [],
   "source": [
    "def stacked_bar(df, xlabel=None, ylabel=None, title=None):\n",
    "    df = df.copy()\n",
    "    if xlabel is not None:\n",
    "        df.index.name = xlabel\n",
    "    if ylabel is not None:\n",
    "        df.columns.name = ylabel\n",
    "    df = df.unstack().reset_index()\n",
    "    df.columns = list(map(str, df.columns[:-1])) + ['value']\n",
    "    fig = Bar(df, stack=df.columns[0], label=df.columns[1], values=df.columns[2], legend=True)\n",
    "    if title is not None:\n",
    "        fig.title = title\n",
    "    return fig"
   ]
  },
  {
   "cell_type": "code",
   "execution_count": 9,
   "metadata": {
    "collapsed": false
   },
   "outputs": [
    {
     "data": {
      "text/html": [
       "\n",
       "\n",
       "    <div class=\"plotdiv\" id=\"ab15acbb-07b6-48b3-9b1f-96c0c8f9faa8\"></div>\n",
       "<script type=\"text/javascript\">\n",
       "  \n",
       "  (function(global) {\n",
       "    function now() {\n",
       "      return new Date();\n",
       "    }\n",
       "  \n",
       "    if (typeof (window._bokeh_onload_callbacks) === \"undefined\") {\n",
       "      window._bokeh_onload_callbacks = [];\n",
       "    }\n",
       "  \n",
       "    function run_callbacks() {\n",
       "      window._bokeh_onload_callbacks.forEach(function(callback) { callback() });\n",
       "      delete window._bokeh_onload_callbacks\n",
       "      console.info(\"Bokeh: all callbacks have finished\");\n",
       "    }\n",
       "  \n",
       "    function load_libs(js_urls, callback) {\n",
       "      window._bokeh_onload_callbacks.push(callback);\n",
       "      if (window._bokeh_is_loading > 0) {\n",
       "        console.log(\"Bokeh: BokehJS is being loaded, scheduling callback at\", now());\n",
       "        return null;\n",
       "      }\n",
       "      if (js_urls == null || js_urls.length === 0) {\n",
       "        run_callbacks();\n",
       "        return null;\n",
       "      }\n",
       "      console.log(\"Bokeh: BokehJS not loaded, scheduling load and callback at\", now());\n",
       "      window._bokeh_is_loading = js_urls.length;\n",
       "      for (var i = 0; i < js_urls.length; i++) {\n",
       "        var url = js_urls[i];\n",
       "        var s = document.createElement('script');\n",
       "        s.src = url;\n",
       "        s.async = false;\n",
       "        s.onreadystatechange = s.onload = function() {\n",
       "          window._bokeh_is_loading--;\n",
       "          if (window._bokeh_is_loading === 0) {\n",
       "            console.log(\"Bokeh: all BokehJS libraries loaded\");\n",
       "            run_callbacks()\n",
       "          }\n",
       "        };\n",
       "        s.onerror = function() {\n",
       "          console.warn(\"failed to load library \" + url);\n",
       "        };\n",
       "        console.log(\"Bokeh: injecting script tag for BokehJS library: \", url);\n",
       "        document.getElementsByTagName(\"head\")[0].appendChild(s);\n",
       "      }\n",
       "    };var element = document.getElementById(\"ab15acbb-07b6-48b3-9b1f-96c0c8f9faa8\");\n",
       "    if (element == null) {\n",
       "      console.log(\"Bokeh: ERROR: autoload.js configured with elementid 'ab15acbb-07b6-48b3-9b1f-96c0c8f9faa8' but no matching script tag was found. \")\n",
       "      return false;\n",
       "    }\n",
       "  \n",
       "    var js_urls = [];\n",
       "  \n",
       "    var inline_js = [\n",
       "      function(Bokeh) {\n",
       "        Bokeh.$(function() {\n",
       "            var docs_json = {\"e9297e55-5748-44e1-b181-62bad187be9b\":{\"roots\":{\"references\":[{\"attributes\":{\"plot\":{\"id\":\"19169c10-a87b-4cc9-a264-81f2d2e2b381\",\"subtype\":\"Chart\",\"type\":\"Plot\"}},\"id\":\"c6e476b2-3b04-4445-a567-3ce6f4ef62c9\",\"type\":\"ResetTool\"},{\"attributes\":{},\"id\":\"aa8c1403-379c-44e6-9029-48acc3da022b\",\"type\":\"CategoricalTickFormatter\"},{\"attributes\":{\"plot\":{\"id\":\"639a9ea3-9b13-41ab-9b89-e4b39286cc63\",\"subtype\":\"Chart\",\"type\":\"Plot\"}},\"id\":\"03ac1006-6f83-4087-9344-f827957476b1\",\"type\":\"ResetTool\"},{\"attributes\":{\"data_source\":{\"id\":\"65cbe2a0-255e-4614-903b-2bb8ca5bee77\",\"type\":\"ColumnDataSource\"},\"glyph\":{\"id\":\"bfe4d131-9c49-4294-be9e-b728c5d738bc\",\"type\":\"Rect\"},\"hover_glyph\":null,\"nonselection_glyph\":null,\"selection_glyph\":null},\"id\":\"62f5da90-0ea1-4aab-8662-7d0911a21c9b\",\"type\":\"GlyphRenderer\"},{\"attributes\":{\"callback\":null,\"column_names\":[\"width\",\"color\",\"line_alpha\",\"height\",\"y\",\"x\",\"fill_alpha\",\"line_color\"],\"data\":{\"category\":[\"A\"],\"chart_index\":[{\"category\":\"A\",\"idx\":2}],\"color\":[\"#f22c40\"],\"fill_alpha\":[0.8],\"height\":[33.0],\"idx\":[2],\"line_alpha\":[1.0],\"line_color\":[\"white\"],\"width\":[0.8],\"x\":[\"2\"],\"y\":[16.5]}},\"id\":\"b9d8f56b-3d10-4f38-8299-bf202229f62d\",\"type\":\"ColumnDataSource\"},{\"attributes\":{\"plot\":{\"id\":\"19169c10-a87b-4cc9-a264-81f2d2e2b381\",\"subtype\":\"Chart\",\"type\":\"Plot\"}},\"id\":\"848b7d98-3a85-4f1f-9ab6-477b4d517844\",\"type\":\"PreviewSaveTool\"},{\"attributes\":{\"callback\":null,\"column_names\":[\"width\",\"color\",\"line_alpha\",\"height\",\"y\",\"x\",\"fill_alpha\",\"line_color\"],\"data\":{\"chart_index\":[{\"level_0\":\"B\",\"level_1\":5}],\"color\":[\"#5ab738\"],\"fill_alpha\":[0.8],\"height\":[78.0],\"level_0\":[\"B\"],\"level_1\":[5],\"line_alpha\":[1.0],\"line_color\":[\"white\"],\"width\":[0.8],\"x\":[\"5\"],\"y\":[128.0]}},\"id\":\"1710cd01-a4f8-4f70-a22a-9eb388b215bd\",\"type\":\"ColumnDataSource\"},{\"attributes\":{\"data_source\":{\"id\":\"b9d8f56b-3d10-4f38-8299-bf202229f62d\",\"type\":\"ColumnDataSource\"},\"glyph\":{\"id\":\"5e50d04a-35f9-41c4-a295-d35b758056c6\",\"type\":\"Rect\"},\"hover_glyph\":null,\"nonselection_glyph\":null,\"selection_glyph\":null},\"id\":\"8842806a-66cc-4e18-95ff-36127a501f9c\",\"type\":\"GlyphRenderer\"},{\"attributes\":{\"plot\":{\"id\":\"639a9ea3-9b13-41ab-9b89-e4b39286cc63\",\"subtype\":\"Chart\",\"type\":\"Plot\"}},\"id\":\"7714c82f-8541-4bf1-acf6-8da861829bd5\",\"type\":\"ResizeTool\"},{\"attributes\":{\"callback\":null,\"column_names\":[\"width\",\"color\",\"line_alpha\",\"height\",\"y\",\"x\",\"fill_alpha\",\"line_color\"],\"data\":{\"category\":[\"B\"],\"chart_index\":[{\"category\":\"B\",\"idx\":1}],\"color\":[\"#5ab738\"],\"fill_alpha\":[0.8],\"height\":[10.0],\"idx\":[1],\"line_alpha\":[1.0],\"line_color\":[\"white\"],\"width\":[0.8],\"x\":[\"1\"],\"y\":[21.0]}},\"id\":\"f9810f88-1e42-495f-8992-6a496efcc675\",\"type\":\"ColumnDataSource\"},{\"attributes\":{\"data_source\":{\"id\":\"a3a7be44-fca1-4fd3-a835-0d12249107bd\",\"type\":\"ColumnDataSource\"},\"glyph\":{\"id\":\"e3e90357-f734-4292-a441-4191ccc7a9b0\",\"type\":\"Rect\"},\"hover_glyph\":null,\"nonselection_glyph\":null,\"selection_glyph\":null},\"id\":\"b7492c80-d709-46bf-b4c6-54de0a8d8760\",\"type\":\"GlyphRenderer\"},{\"attributes\":{\"fill_alpha\":{\"field\":\"fill_alpha\"},\"fill_color\":{\"field\":\"color\"},\"height\":{\"field\":\"height\",\"units\":\"data\"},\"line_color\":{\"field\":\"line_color\"},\"width\":{\"field\":\"width\",\"units\":\"data\"},\"x\":{\"field\":\"x\"},\"y\":{\"field\":\"y\"}},\"id\":\"39656b9c-27cf-448b-8220-4199beddc9b6\",\"type\":\"Rect\"},{\"attributes\":{\"fill_alpha\":{\"field\":\"fill_alpha\"},\"fill_color\":{\"field\":\"color\"},\"height\":{\"field\":\"height\",\"units\":\"data\"},\"line_color\":{\"field\":\"line_color\"},\"width\":{\"field\":\"width\",\"units\":\"data\"},\"x\":{\"field\":\"x\"},\"y\":{\"field\":\"y\"}},\"id\":\"f5f97cb5-ea85-4e1b-bb7a-4ce7ccc40d34\",\"type\":\"Rect\"},{\"attributes\":{\"fill_alpha\":{\"field\":\"fill_alpha\"},\"fill_color\":{\"field\":\"color\"},\"height\":{\"field\":\"height\",\"units\":\"data\"},\"line_color\":{\"field\":\"line_color\"},\"width\":{\"field\":\"width\",\"units\":\"data\"},\"x\":{\"field\":\"x\"},\"y\":{\"field\":\"y\"}},\"id\":\"c52bef45-32b1-433a-8c72-8402abeb7bbb\",\"type\":\"Rect\"},{\"attributes\":{\"data_source\":{\"id\":\"07cb8fee-9fde-4cf3-898c-5846a587b3e9\",\"type\":\"ColumnDataSource\"},\"glyph\":{\"id\":\"16027b44-33e4-4e74-b96b-5eeb4c8a2268\",\"type\":\"Rect\"},\"hover_glyph\":null,\"nonselection_glyph\":null,\"selection_glyph\":null},\"id\":\"88cfaf30-aff8-4dc9-a58b-29bf7fbb27e4\",\"type\":\"GlyphRenderer\"},{\"attributes\":{\"callback\":null,\"column_names\":[\"width\",\"color\",\"line_alpha\",\"height\",\"y\",\"x\",\"fill_alpha\",\"line_color\"],\"data\":{\"chart_index\":[{\"level_0\":\"C\",\"level_1\":1}],\"color\":[\"#407ee7\"],\"fill_alpha\":[0.8],\"height\":[17.0],\"level_0\":[\"C\"],\"level_1\":[1],\"line_alpha\":[1.0],\"line_color\":[\"white\"],\"width\":[0.8],\"x\":[\"1\"],\"y\":[34.5]}},\"id\":\"a8e50584-e81b-4b51-bea2-de9e114d88ee\",\"type\":\"ColumnDataSource\"},{\"attributes\":{\"fill_alpha\":{\"field\":\"fill_alpha\"},\"fill_color\":{\"field\":\"color\"},\"height\":{\"field\":\"height\",\"units\":\"data\"},\"line_color\":{\"field\":\"line_color\"},\"width\":{\"field\":\"width\",\"units\":\"data\"},\"x\":{\"field\":\"x\"},\"y\":{\"field\":\"y\"}},\"id\":\"2a89fd52-da42-45d2-b0e2-43f69876bf25\",\"type\":\"Rect\"},{\"attributes\":{},\"id\":\"962beb1a-7684-45fd-8b00-7504658efcd8\",\"type\":\"CategoricalTicker\"},{\"attributes\":{\"data_source\":{\"id\":\"c327f863-d761-4efb-a0df-996af814b8b3\",\"type\":\"ColumnDataSource\"},\"glyph\":{\"id\":\"15d2e78c-2836-4381-860e-89257d7b0574\",\"type\":\"Rect\"},\"hover_glyph\":null,\"nonselection_glyph\":null,\"selection_glyph\":null},\"id\":\"9d7b3331-3e38-420c-9b1f-17b0c497ae8a\",\"type\":\"GlyphRenderer\"},{\"attributes\":{\"fill_alpha\":{\"field\":\"fill_alpha\"},\"fill_color\":{\"field\":\"color\"},\"height\":{\"field\":\"height\",\"units\":\"data\"},\"line_color\":{\"field\":\"line_color\"},\"width\":{\"field\":\"width\",\"units\":\"data\"},\"x\":{\"field\":\"x\"},\"y\":{\"field\":\"y\"}},\"id\":\"740e1d0a-6a50-4763-8ce6-2e746b50f9e1\",\"type\":\"Rect\"},{\"attributes\":{\"callback\":null,\"factors\":[\"1\",\"2\",\"3\",\"4\",\"5\"]},\"id\":\"e8d9b6bb-c1b2-4e01-87fc-f690c7ba01fc\",\"type\":\"FactorRange\"},{\"attributes\":{\"data_source\":{\"id\":\"b7b3579a-83f7-4c86-a991-f400edbd854e\",\"type\":\"ColumnDataSource\"},\"glyph\":{\"id\":\"d8e48cc9-66a0-468e-b12b-7aa3ad8a0d2a\",\"type\":\"Rect\"},\"hover_glyph\":null,\"nonselection_glyph\":null,\"selection_glyph\":null},\"id\":\"4bc0bc7b-3b0c-4684-aae9-a41b756042e6\",\"type\":\"GlyphRenderer\"},{\"attributes\":{\"fill_alpha\":{\"field\":\"fill_alpha\"},\"fill_color\":{\"field\":\"color\"},\"height\":{\"field\":\"height\",\"units\":\"data\"},\"line_color\":{\"field\":\"line_color\"},\"width\":{\"field\":\"width\",\"units\":\"data\"},\"x\":{\"field\":\"x\"},\"y\":{\"field\":\"y\"}},\"id\":\"df5af3dd-5761-486e-8f74-af2ae324c1b6\",\"type\":\"Rect\"},{\"attributes\":{\"fill_alpha\":{\"field\":\"fill_alpha\"},\"fill_color\":{\"field\":\"color\"},\"height\":{\"field\":\"height\",\"units\":\"data\"},\"line_color\":{\"field\":\"line_color\"},\"width\":{\"field\":\"width\",\"units\":\"data\"},\"x\":{\"field\":\"x\"},\"y\":{\"field\":\"y\"}},\"id\":\"e3e90357-f734-4292-a441-4191ccc7a9b0\",\"type\":\"Rect\"},{\"attributes\":{\"fill_alpha\":{\"field\":\"fill_alpha\"},\"fill_color\":{\"field\":\"color\"},\"height\":{\"field\":\"height\",\"units\":\"data\"},\"line_color\":{\"field\":\"line_color\"},\"width\":{\"field\":\"width\",\"units\":\"data\"},\"x\":{\"field\":\"x\"},\"y\":{\"field\":\"y\"}},\"id\":\"459dbcad-494e-4540-9f54-be026f85828b\",\"type\":\"Rect\"},{\"attributes\":{\"data_source\":{\"id\":\"497a219f-c8a9-4400-bf55-ccc4d3f7f6d9\",\"type\":\"ColumnDataSource\"},\"glyph\":{\"id\":\"6304e2aa-d4eb-4e69-9b7e-b4abb2fc93ef\",\"type\":\"Rect\"},\"hover_glyph\":null,\"nonselection_glyph\":null,\"selection_glyph\":null},\"id\":\"d5d86269-0484-4d62-a4ec-07af976f33b7\",\"type\":\"GlyphRenderer\"},{\"attributes\":{},\"id\":\"64838f32-dd18-4864-ad73-df408158df4d\",\"type\":\"BasicTicker\"},{\"attributes\":{\"data_source\":{\"id\":\"645d72d8-7a85-41f5-99ea-44f80f4ac4cc\",\"type\":\"ColumnDataSource\"},\"glyph\":{\"id\":\"df5af3dd-5761-486e-8f74-af2ae324c1b6\",\"type\":\"Rect\"},\"hover_glyph\":null,\"nonselection_glyph\":null,\"selection_glyph\":null},\"id\":\"35d03c32-d440-47de-9798-864acced95a2\",\"type\":\"GlyphRenderer\"},{\"attributes\":{\"overlay\":{\"id\":\"f24f6777-fdf5-41f9-bf7c-37c3ee777454\",\"type\":\"BoxAnnotation\"},\"plot\":{\"id\":\"639a9ea3-9b13-41ab-9b89-e4b39286cc63\",\"subtype\":\"Chart\",\"type\":\"Plot\"}},\"id\":\"ecf867ae-6566-46b5-adec-cfbc4e40910b\",\"type\":\"BoxZoomTool\"},{\"attributes\":{\"callback\":null,\"column_names\":[\"width\",\"color\",\"line_alpha\",\"height\",\"y\",\"x\",\"fill_alpha\",\"line_color\"],\"data\":{\"chart_index\":[{\"level_0\":\"B\",\"level_1\":1}],\"color\":[\"#5ab738\"],\"fill_alpha\":[0.8],\"height\":[10.0],\"level_0\":[\"B\"],\"level_1\":[1],\"line_alpha\":[1.0],\"line_color\":[\"white\"],\"width\":[0.8],\"x\":[\"1\"],\"y\":[21.0]}},\"id\":\"89daccd7-a963-4358-b18d-d1300f3b701d\",\"type\":\"ColumnDataSource\"},{\"attributes\":{\"data_source\":{\"id\":\"ece75a61-9d51-4f02-952b-4c0af174f2c4\",\"type\":\"ColumnDataSource\"},\"glyph\":{\"id\":\"5195933a-ab2e-472c-95c4-d511229e9b02\",\"type\":\"Rect\"},\"hover_glyph\":null,\"nonselection_glyph\":null,\"selection_glyph\":null},\"id\":\"c766190c-523f-480a-97d7-d05fbba940f1\",\"type\":\"GlyphRenderer\"},{\"attributes\":{\"callback\":null,\"column_names\":[\"width\",\"color\",\"line_alpha\",\"height\",\"y\",\"x\",\"fill_alpha\",\"line_color\"],\"data\":{\"category\":[\"A\"],\"chart_index\":[{\"category\":\"A\",\"idx\":4}],\"color\":[\"#f22c40\"],\"fill_alpha\":[0.8],\"height\":[60.0],\"idx\":[4],\"line_alpha\":[1.0],\"line_color\":[\"white\"],\"width\":[0.8],\"x\":[\"4\"],\"y\":[30.0]}},\"id\":\"9db0ec6d-250c-4e51-9544-58d6012e712a\",\"type\":\"ColumnDataSource\"},{\"attributes\":{\"callback\":null,\"column_names\":[\"width\",\"color\",\"line_alpha\",\"height\",\"y\",\"x\",\"fill_alpha\",\"line_color\"],\"data\":{\"chart_index\":[{\"level_0\":\"A\",\"level_1\":1}],\"color\":[\"#f22c40\"],\"fill_alpha\":[0.8],\"height\":[16.0],\"level_0\":[\"A\"],\"level_1\":[1],\"line_alpha\":[1.0],\"line_color\":[\"white\"],\"width\":[0.8],\"x\":[\"1\"],\"y\":[8.0]}},\"id\":\"3e4aa68f-0c25-4b8e-8ba5-a49c2549f8dd\",\"type\":\"ColumnDataSource\"},{\"attributes\":{\"fill_alpha\":{\"field\":\"fill_alpha\"},\"fill_color\":{\"field\":\"color\"},\"height\":{\"field\":\"height\",\"units\":\"data\"},\"line_color\":{\"field\":\"line_color\"},\"width\":{\"field\":\"width\",\"units\":\"data\"},\"x\":{\"field\":\"x\"},\"y\":{\"field\":\"y\"}},\"id\":\"7d13f5c5-5099-40b6-8934-d50cd8db6e2b\",\"type\":\"Rect\"},{\"attributes\":{\"data_source\":{\"id\":\"93920538-50ee-41e0-920a-cd1c4f51cf55\",\"type\":\"ColumnDataSource\"},\"glyph\":{\"id\":\"b703c675-c2bb-463c-9e44-554d1a43d8d0\",\"type\":\"Rect\"},\"hover_glyph\":null,\"nonselection_glyph\":null,\"selection_glyph\":null},\"id\":\"649c4994-e212-452f-83a8-a294dd933fc9\",\"type\":\"GlyphRenderer\"},{\"attributes\":{\"plot\":{\"id\":\"639a9ea3-9b13-41ab-9b89-e4b39286cc63\",\"subtype\":\"Chart\",\"type\":\"Plot\"}},\"id\":\"22d7f4ed-3442-470b-bd69-3e5813b2fbb0\",\"type\":\"PreviewSaveTool\"},{\"attributes\":{\"callback\":null,\"column_names\":[\"width\",\"color\",\"line_alpha\",\"height\",\"y\",\"x\",\"fill_alpha\",\"line_color\"],\"data\":{\"chart_index\":[{\"level_0\":\"A\",\"level_1\":2}],\"color\":[\"#f22c40\"],\"fill_alpha\":[0.8],\"height\":[33.0],\"level_0\":[\"A\"],\"level_1\":[2],\"line_alpha\":[1.0],\"line_color\":[\"white\"],\"width\":[0.8],\"x\":[\"2\"],\"y\":[16.5]}},\"id\":\"4a73afeb-947c-49d8-95af-94e9630cc449\",\"type\":\"ColumnDataSource\"},{\"attributes\":{\"data_source\":{\"id\":\"1710cd01-a4f8-4f70-a22a-9eb388b215bd\",\"type\":\"ColumnDataSource\"},\"glyph\":{\"id\":\"2a89fd52-da42-45d2-b0e2-43f69876bf25\",\"type\":\"Rect\"},\"hover_glyph\":null,\"nonselection_glyph\":null,\"selection_glyph\":null},\"id\":\"9c8b2ea2-9a1f-4c00-b094-2b4da9957a0f\",\"type\":\"GlyphRenderer\"},{\"attributes\":{\"callback\":null,\"column_names\":[\"width\",\"color\",\"line_alpha\",\"height\",\"y\",\"x\",\"fill_alpha\",\"line_color\"],\"data\":{\"category\":[\"C\"],\"chart_index\":[{\"category\":\"C\",\"idx\":1}],\"color\":[\"#407ee7\"],\"fill_alpha\":[0.8],\"height\":[17.0],\"idx\":[1],\"line_alpha\":[1.0],\"line_color\":[\"white\"],\"width\":[0.8],\"x\":[\"1\"],\"y\":[34.5]}},\"id\":\"77b5dc47-6d60-49ae-b91d-48fd0c7ab2e3\",\"type\":\"ColumnDataSource\"},{\"attributes\":{\"fill_alpha\":{\"field\":\"fill_alpha\"},\"fill_color\":{\"field\":\"color\"},\"height\":{\"field\":\"height\",\"units\":\"data\"},\"line_color\":{\"field\":\"line_color\"},\"width\":{\"field\":\"width\",\"units\":\"data\"},\"x\":{\"field\":\"x\"},\"y\":{\"field\":\"y\"}},\"id\":\"c2bc55d7-0056-4a6e-b09c-7838cfa398c3\",\"type\":\"Rect\"},{\"attributes\":{\"callback\":null,\"column_names\":[\"width\",\"color\",\"line_alpha\",\"height\",\"y\",\"x\",\"fill_alpha\",\"line_color\"],\"data\":{\"category\":[\"B\"],\"chart_index\":[{\"category\":\"B\",\"idx\":2}],\"color\":[\"#5ab738\"],\"fill_alpha\":[0.8],\"height\":[24.0],\"idx\":[2],\"line_alpha\":[1.0],\"line_color\":[\"white\"],\"width\":[0.8],\"x\":[\"2\"],\"y\":[45.0]}},\"id\":\"a3a7be44-fca1-4fd3-a835-0d12249107bd\",\"type\":\"ColumnDataSource\"},{\"attributes\":{\"callback\":null,\"column_names\":[\"width\",\"color\",\"line_alpha\",\"height\",\"y\",\"x\",\"fill_alpha\",\"line_color\"],\"data\":{\"chart_index\":[{\"level_0\":\"A\",\"level_1\":5}],\"color\":[\"#f22c40\"],\"fill_alpha\":[0.8],\"height\":[89.0],\"level_0\":[\"A\"],\"level_1\":[5],\"line_alpha\":[1.0],\"line_color\":[\"white\"],\"width\":[0.8],\"x\":[\"5\"],\"y\":[44.5]}},\"id\":\"c4883f25-73cc-4e88-b7ed-ef8b1e24986f\",\"type\":\"ColumnDataSource\"},{\"attributes\":{\"callback\":null,\"column_names\":[\"width\",\"color\",\"line_alpha\",\"height\",\"y\",\"x\",\"fill_alpha\",\"line_color\"],\"data\":{\"chart_index\":[{\"level_0\":\"B\",\"level_1\":2}],\"color\":[\"#5ab738\"],\"fill_alpha\":[0.8],\"height\":[24.0],\"level_0\":[\"B\"],\"level_1\":[2],\"line_alpha\":[1.0],\"line_color\":[\"white\"],\"width\":[0.8],\"x\":[\"2\"],\"y\":[45.0]}},\"id\":\"4a9e5a8a-5201-414c-a5b9-bd219fead533\",\"type\":\"ColumnDataSource\"},{\"attributes\":{\"fill_alpha\":{\"field\":\"fill_alpha\"},\"fill_color\":{\"field\":\"color\"},\"height\":{\"field\":\"height\",\"units\":\"data\"},\"line_color\":{\"field\":\"line_color\"},\"width\":{\"field\":\"width\",\"units\":\"data\"},\"x\":{\"field\":\"x\"},\"y\":{\"field\":\"y\"}},\"id\":\"15d2e78c-2836-4381-860e-89257d7b0574\",\"type\":\"Rect\"},{\"attributes\":{\"data_source\":{\"id\":\"f9810f88-1e42-495f-8992-6a496efcc675\",\"type\":\"ColumnDataSource\"},\"glyph\":{\"id\":\"6eaf78a9-a850-4f02-a576-3f86ebe27e81\",\"type\":\"Rect\"},\"hover_glyph\":null,\"nonselection_glyph\":null,\"selection_glyph\":null},\"id\":\"2bf81f75-4df0-4821-8aaf-66bbc007fbc5\",\"type\":\"GlyphRenderer\"},{\"attributes\":{\"callback\":null,\"column_names\":[\"width\",\"color\",\"line_alpha\",\"height\",\"y\",\"x\",\"fill_alpha\",\"line_color\"],\"data\":{\"chart_index\":[{\"level_0\":\"B\",\"level_1\":4}],\"color\":[\"#5ab738\"],\"fill_alpha\":[0.8],\"height\":[55.0],\"level_0\":[\"B\"],\"level_1\":[4],\"line_alpha\":[1.0],\"line_color\":[\"white\"],\"width\":[0.8],\"x\":[\"4\"],\"y\":[87.5]}},\"id\":\"7d16e0ca-c9a7-48d3-97b9-88778cba2fc4\",\"type\":\"ColumnDataSource\"},{\"attributes\":{\"fill_alpha\":{\"field\":\"fill_alpha\"},\"fill_color\":{\"field\":\"color\"},\"height\":{\"field\":\"height\",\"units\":\"data\"},\"line_color\":{\"field\":\"line_color\"},\"width\":{\"field\":\"width\",\"units\":\"data\"},\"x\":{\"field\":\"x\"},\"y\":{\"field\":\"y\"}},\"id\":\"63de03b7-5469-4280-8a67-3273dd1277c1\",\"type\":\"Rect\"},{\"attributes\":{\"data_source\":{\"id\":\"bd711ba4-a126-4671-825c-0fcceea0dea7\",\"type\":\"ColumnDataSource\"},\"glyph\":{\"id\":\"f5f97cb5-ea85-4e1b-bb7a-4ce7ccc40d34\",\"type\":\"Rect\"},\"hover_glyph\":null,\"nonselection_glyph\":null,\"selection_glyph\":null},\"id\":\"ce6a6b6d-86f9-4c7f-9fed-77ee403c50e2\",\"type\":\"GlyphRenderer\"},{\"attributes\":{\"fill_alpha\":{\"field\":\"fill_alpha\"},\"fill_color\":{\"field\":\"color\"},\"height\":{\"field\":\"height\",\"units\":\"data\"},\"line_color\":{\"field\":\"line_color\"},\"width\":{\"field\":\"width\",\"units\":\"data\"},\"x\":{\"field\":\"x\"},\"y\":{\"field\":\"y\"}},\"id\":\"16027b44-33e4-4e74-b96b-5eeb4c8a2268\",\"type\":\"Rect\"},{\"attributes\":{\"plot\":{\"id\":\"19169c10-a87b-4cc9-a264-81f2d2e2b381\",\"subtype\":\"Chart\",\"type\":\"Plot\"}},\"id\":\"4fb568aa-10d2-4f96-985f-e2465e709602\",\"type\":\"ResizeTool\"},{\"attributes\":{\"plot\":{\"id\":\"19169c10-a87b-4cc9-a264-81f2d2e2b381\",\"subtype\":\"Chart\",\"type\":\"Plot\"}},\"id\":\"9fe58896-cdfd-4254-86f7-b03887eea8db\",\"type\":\"HelpTool\"},{\"attributes\":{\"fill_alpha\":{\"field\":\"fill_alpha\"},\"fill_color\":{\"field\":\"color\"},\"height\":{\"field\":\"height\",\"units\":\"data\"},\"line_color\":{\"field\":\"line_color\"},\"width\":{\"field\":\"width\",\"units\":\"data\"},\"x\":{\"field\":\"x\"},\"y\":{\"field\":\"y\"}},\"id\":\"a0d42b92-759c-44ad-b19c-ad3bc7e7a0f0\",\"type\":\"Rect\"},{\"attributes\":{\"data_source\":{\"id\":\"a8e50584-e81b-4b51-bea2-de9e114d88ee\",\"type\":\"ColumnDataSource\"},\"glyph\":{\"id\":\"63de03b7-5469-4280-8a67-3273dd1277c1\",\"type\":\"Rect\"},\"hover_glyph\":null,\"nonselection_glyph\":null,\"selection_glyph\":null},\"id\":\"310a2b67-d372-48df-8cad-3f0aa7430025\",\"type\":\"GlyphRenderer\"},{\"attributes\":{\"callback\":null,\"column_names\":[\"width\",\"color\",\"line_alpha\",\"height\",\"y\",\"x\",\"fill_alpha\",\"line_color\"],\"data\":{\"chart_index\":[{\"level_0\":\"B\",\"level_1\":3}],\"color\":[\"#5ab738\"],\"fill_alpha\":[0.8],\"height\":[51.0],\"level_0\":[\"B\"],\"level_1\":[3],\"line_alpha\":[1.0],\"line_color\":[\"white\"],\"width\":[0.8],\"x\":[\"3\"],\"y\":[65.5]}},\"id\":\"bd711ba4-a126-4671-825c-0fcceea0dea7\",\"type\":\"ColumnDataSource\"},{\"attributes\":{\"data_source\":{\"id\":\"3e4aa68f-0c25-4b8e-8ba5-a49c2549f8dd\",\"type\":\"ColumnDataSource\"},\"glyph\":{\"id\":\"7d13f5c5-5099-40b6-8934-d50cd8db6e2b\",\"type\":\"Rect\"},\"hover_glyph\":null,\"nonselection_glyph\":null,\"selection_glyph\":null},\"id\":\"060525f4-97d5-4ca6-a5ce-2c14806806d8\",\"type\":\"GlyphRenderer\"},{\"attributes\":{\"bottom_units\":\"screen\",\"fill_alpha\":{\"value\":0.5},\"fill_color\":{\"value\":\"lightgrey\"},\"left_units\":\"screen\",\"level\":\"overlay\",\"line_alpha\":{\"value\":1.0},\"line_color\":{\"value\":\"black\"},\"line_dash\":[4,4],\"line_width\":{\"value\":2},\"plot\":null,\"render_mode\":\"css\",\"right_units\":\"screen\",\"top_units\":\"screen\"},\"id\":\"f58bae04-67e4-4e85-9f73-fd1942ba22a6\",\"type\":\"BoxAnnotation\"},{\"attributes\":{\"data_source\":{\"id\":\"89daccd7-a963-4358-b18d-d1300f3b701d\",\"type\":\"ColumnDataSource\"},\"glyph\":{\"id\":\"cd34b4a0-1bf5-4408-b112-af8449b65c82\",\"type\":\"Rect\"},\"hover_glyph\":null,\"nonselection_glyph\":null,\"selection_glyph\":null},\"id\":\"254b3323-f330-4dc4-8604-d33a9dc40dec\",\"type\":\"GlyphRenderer\"},{\"attributes\":{\"fill_alpha\":{\"field\":\"fill_alpha\"},\"fill_color\":{\"field\":\"color\"},\"height\":{\"field\":\"height\",\"units\":\"data\"},\"line_color\":{\"field\":\"line_color\"},\"width\":{\"field\":\"width\",\"units\":\"data\"},\"x\":{\"field\":\"x\"},\"y\":{\"field\":\"y\"}},\"id\":\"cd34b4a0-1bf5-4408-b112-af8449b65c82\",\"type\":\"Rect\"},{\"attributes\":{\"data_source\":{\"id\":\"4a9e5a8a-5201-414c-a5b9-bd219fead533\",\"type\":\"ColumnDataSource\"},\"glyph\":{\"id\":\"5d5cb10b-000c-4ace-932a-419c81ffb234\",\"type\":\"Rect\"},\"hover_glyph\":null,\"nonselection_glyph\":null,\"selection_glyph\":null},\"id\":\"15a3fed1-afeb-44e6-a6cb-c5e47de94119\",\"type\":\"GlyphRenderer\"},{\"attributes\":{\"callback\":null,\"column_names\":[\"width\",\"color\",\"line_alpha\",\"height\",\"y\",\"x\",\"fill_alpha\",\"line_color\"],\"data\":{\"chart_index\":[{\"level_0\":\"C\",\"level_1\":3}],\"color\":[\"#407ee7\"],\"fill_alpha\":[0.8],\"height\":[37.0],\"level_0\":[\"C\"],\"level_1\":[3],\"line_alpha\":[1.0],\"line_color\":[\"white\"],\"width\":[0.8],\"x\":[\"3\"],\"y\":[109.5]}},\"id\":\"645d72d8-7a85-41f5-99ea-44f80f4ac4cc\",\"type\":\"ColumnDataSource\"},{\"attributes\":{\"data_source\":{\"id\":\"96028d90-f973-4ee4-9145-cc4c0efc236d\",\"type\":\"ColumnDataSource\"},\"glyph\":{\"id\":\"38e35255-89ec-48fc-af45-dad651a9df5f\",\"type\":\"Rect\"},\"hover_glyph\":null,\"nonselection_glyph\":null,\"selection_glyph\":null},\"id\":\"e527ff14-af77-4762-8b20-16d4accb9357\",\"type\":\"GlyphRenderer\"},{\"attributes\":{\"axis_label\":\"Level_1\",\"formatter\":{\"id\":\"aa8c1403-379c-44e6-9029-48acc3da022b\",\"type\":\"CategoricalTickFormatter\"},\"major_label_orientation\":0.7853981633974483,\"plot\":{\"id\":\"19169c10-a87b-4cc9-a264-81f2d2e2b381\",\"subtype\":\"Chart\",\"type\":\"Plot\"},\"ticker\":{\"id\":\"575bed52-9751-4d08-9048-54570187aa0b\",\"type\":\"CategoricalTicker\"}},\"id\":\"8b69f929-ee38-458f-86a7-f9fdc3eb3887\",\"type\":\"CategoricalAxis\"},{\"attributes\":{\"axis_label\":\"Sum( Value )\",\"formatter\":{\"id\":\"8f62422b-542c-43fb-81cc-9c7140d78055\",\"type\":\"BasicTickFormatter\"},\"plot\":{\"id\":\"639a9ea3-9b13-41ab-9b89-e4b39286cc63\",\"subtype\":\"Chart\",\"type\":\"Plot\"},\"ticker\":{\"id\":\"64838f32-dd18-4864-ad73-df408158df4d\",\"type\":\"BasicTicker\"}},\"id\":\"d0fc8a3c-f1da-4adf-b046-b2c2e4ed597b\",\"type\":\"LinearAxis\"},{\"attributes\":{},\"id\":\"8f62422b-542c-43fb-81cc-9c7140d78055\",\"type\":\"BasicTickFormatter\"},{\"attributes\":{\"overlay\":{\"id\":\"f58bae04-67e4-4e85-9f73-fd1942ba22a6\",\"type\":\"BoxAnnotation\"},\"plot\":{\"id\":\"19169c10-a87b-4cc9-a264-81f2d2e2b381\",\"subtype\":\"Chart\",\"type\":\"Plot\"}},\"id\":\"f7ea7e0b-e229-49ba-91d5-ff111680b82f\",\"type\":\"BoxZoomTool\"},{\"attributes\":{\"data_source\":{\"id\":\"48641a71-6b11-4517-8b47-106dfe93a427\",\"type\":\"ColumnDataSource\"},\"glyph\":{\"id\":\"a0d42b92-759c-44ad-b19c-ad3bc7e7a0f0\",\"type\":\"Rect\"},\"hover_glyph\":null,\"nonselection_glyph\":null,\"selection_glyph\":null},\"id\":\"a62ed090-878b-4ba3-81a9-b0e135f3d545\",\"type\":\"GlyphRenderer\"},{\"attributes\":{\"data_source\":{\"id\":\"26fe273e-4d96-41e6-ab09-652ad0b9cf11\",\"type\":\"ColumnDataSource\"},\"glyph\":{\"id\":\"784194b8-9159-4eb4-9ffd-7c95fffd1d76\",\"type\":\"Rect\"},\"hover_glyph\":null,\"nonselection_glyph\":null,\"selection_glyph\":null},\"id\":\"d0480487-59e7-4a43-8608-026843265fac\",\"type\":\"GlyphRenderer\"},{\"attributes\":{\"callback\":null,\"column_names\":[\"width\",\"color\",\"line_alpha\",\"height\",\"y\",\"x\",\"fill_alpha\",\"line_color\"],\"data\":{\"chart_index\":[{\"level_0\":\"A\",\"level_1\":3}],\"color\":[\"#f22c40\"],\"fill_alpha\":[0.8],\"height\":[40.0],\"level_0\":[\"A\"],\"level_1\":[3],\"line_alpha\":[1.0],\"line_color\":[\"white\"],\"width\":[0.8],\"x\":[\"3\"],\"y\":[20.0]}},\"id\":\"26fe273e-4d96-41e6-ab09-652ad0b9cf11\",\"type\":\"ColumnDataSource\"},{\"attributes\":{},\"id\":\"958a39c6-b054-4d56-96ef-3d086708954f\",\"type\":\"BasicTickFormatter\"},{\"attributes\":{\"callback\":null,\"column_names\":[\"width\",\"color\",\"line_alpha\",\"height\",\"y\",\"x\",\"fill_alpha\",\"line_color\"],\"data\":{\"category\":[\"A\"],\"chart_index\":[{\"category\":\"A\",\"idx\":1}],\"color\":[\"#f22c40\"],\"fill_alpha\":[0.8],\"height\":[16.0],\"idx\":[1],\"line_alpha\":[1.0],\"line_color\":[\"white\"],\"width\":[0.8],\"x\":[\"1\"],\"y\":[8.0]}},\"id\":\"07cb8fee-9fde-4cf3-898c-5846a587b3e9\",\"type\":\"ColumnDataSource\"},{\"attributes\":{\"plot\":{\"id\":\"19169c10-a87b-4cc9-a264-81f2d2e2b381\",\"subtype\":\"Chart\",\"type\":\"Plot\"}},\"id\":\"2ad47ecf-fc85-455c-923c-35e94996c122\",\"type\":\"PanTool\"},{\"attributes\":{\"data_source\":{\"id\":\"c4883f25-73cc-4e88-b7ed-ef8b1e24986f\",\"type\":\"ColumnDataSource\"},\"glyph\":{\"id\":\"f2ca7c88-2b91-4e27-b0f5-e053b53caa7e\",\"type\":\"Rect\"},\"hover_glyph\":null,\"nonselection_glyph\":null,\"selection_glyph\":null},\"id\":\"f30f18b6-3db3-4bf3-a0be-d6e8925b193b\",\"type\":\"GlyphRenderer\"},{\"attributes\":{\"dimension\":1,\"plot\":{\"id\":\"639a9ea3-9b13-41ab-9b89-e4b39286cc63\",\"subtype\":\"Chart\",\"type\":\"Plot\"},\"ticker\":{\"id\":\"64838f32-dd18-4864-ad73-df408158df4d\",\"type\":\"BasicTicker\"}},\"id\":\"c7ac1e45-6005-49b3-acb7-16078311f272\",\"type\":\"Grid\"},{\"attributes\":{\"callback\":null,\"column_names\":[\"width\",\"color\",\"line_alpha\",\"height\",\"y\",\"x\",\"fill_alpha\",\"line_color\"],\"data\":{\"category\":[\"B\"],\"chart_index\":[{\"category\":\"B\",\"idx\":3}],\"color\":[\"#5ab738\"],\"fill_alpha\":[0.8],\"height\":[51.0],\"idx\":[3],\"line_alpha\":[1.0],\"line_color\":[\"white\"],\"width\":[0.8],\"x\":[\"3\"],\"y\":[65.5]}},\"id\":\"497a219f-c8a9-4400-bf55-ccc4d3f7f6d9\",\"type\":\"ColumnDataSource\"},{\"attributes\":{\"callback\":null,\"column_names\":[\"width\",\"color\",\"line_alpha\",\"height\",\"y\",\"x\",\"fill_alpha\",\"line_color\"],\"data\":{\"category\":[\"C\"],\"chart_index\":[{\"category\":\"C\",\"idx\":3}],\"color\":[\"#407ee7\"],\"fill_alpha\":[0.8],\"height\":[37.0],\"idx\":[3],\"line_alpha\":[1.0],\"line_color\":[\"white\"],\"width\":[0.8],\"x\":[\"3\"],\"y\":[109.5]}},\"id\":\"3c26131a-7710-4dfb-874a-350de36216fb\",\"type\":\"ColumnDataSource\"},{\"attributes\":{\"callback\":null,\"column_names\":[\"width\",\"color\",\"line_alpha\",\"height\",\"y\",\"x\",\"fill_alpha\",\"line_color\"],\"data\":{\"chart_index\":[{\"level_0\":\"C\",\"level_1\":4}],\"color\":[\"#407ee7\"],\"fill_alpha\":[0.8],\"height\":[82.0],\"level_0\":[\"C\"],\"level_1\":[4],\"line_alpha\":[1.0],\"line_color\":[\"white\"],\"width\":[0.8],\"x\":[\"4\"],\"y\":[156.0]}},\"id\":\"65cbe2a0-255e-4614-903b-2bb8ca5bee77\",\"type\":\"ColumnDataSource\"},{\"attributes\":{\"fill_alpha\":{\"field\":\"fill_alpha\"},\"fill_color\":{\"field\":\"color\"},\"height\":{\"field\":\"height\",\"units\":\"data\"},\"line_color\":{\"field\":\"line_color\"},\"width\":{\"field\":\"width\",\"units\":\"data\"},\"x\":{\"field\":\"x\"},\"y\":{\"field\":\"y\"}},\"id\":\"bfe4d131-9c49-4294-be9e-b728c5d738bc\",\"type\":\"Rect\"},{\"attributes\":{\"plot\":{\"id\":\"639a9ea3-9b13-41ab-9b89-e4b39286cc63\",\"subtype\":\"Chart\",\"type\":\"Plot\"}},\"id\":\"216dff49-9068-408e-b0a1-4e391795aaa1\",\"type\":\"HelpTool\"},{\"attributes\":{},\"id\":\"30840d2e-c758-4680-804c-4a5975c2df3b\",\"type\":\"CategoricalTickFormatter\"},{\"attributes\":{\"fill_alpha\":{\"field\":\"fill_alpha\"},\"fill_color\":{\"field\":\"color\"},\"height\":{\"field\":\"height\",\"units\":\"data\"},\"line_color\":{\"field\":\"line_color\"},\"width\":{\"field\":\"width\",\"units\":\"data\"},\"x\":{\"field\":\"x\"},\"y\":{\"field\":\"y\"}},\"id\":\"9a2ca850-d81c-49f5-a74f-0897d68580ac\",\"type\":\"Rect\"},{\"attributes\":{\"callback\":null,\"end\":279.3},\"id\":\"afdf4e34-0387-440b-b2b5-9c8aa0606263\",\"type\":\"Range1d\"},{\"attributes\":{\"fill_alpha\":{\"field\":\"fill_alpha\"},\"fill_color\":{\"field\":\"color\"},\"height\":{\"field\":\"height\",\"units\":\"data\"},\"line_color\":{\"field\":\"line_color\"},\"width\":{\"field\":\"width\",\"units\":\"data\"},\"x\":{\"field\":\"x\"},\"y\":{\"field\":\"y\"}},\"id\":\"5d5cb10b-000c-4ace-932a-419c81ffb234\",\"type\":\"Rect\"},{\"attributes\":{\"data_source\":{\"id\":\"65bc1a5c-b85a-407d-b022-2e01c927e871\",\"type\":\"ColumnDataSource\"},\"glyph\":{\"id\":\"c2bc55d7-0056-4a6e-b09c-7838cfa398c3\",\"type\":\"Rect\"},\"hover_glyph\":null,\"nonselection_glyph\":null,\"selection_glyph\":null},\"id\":\"77c19b33-965e-4f53-b10f-1a7f45b8df2b\",\"type\":\"GlyphRenderer\"},{\"attributes\":{},\"id\":\"d43b6f29-8c95-4ed4-8dc0-7bf277b7cbdf\",\"type\":\"BasicTicker\"},{\"attributes\":{\"data_source\":{\"id\":\"3c26131a-7710-4dfb-874a-350de36216fb\",\"type\":\"ColumnDataSource\"},\"glyph\":{\"id\":\"40524e7e-9cb9-4332-9f16-23fb34e5de52\",\"type\":\"Rect\"},\"hover_glyph\":null,\"nonselection_glyph\":null,\"selection_glyph\":null},\"id\":\"24a7d532-bf64-4790-8b94-5dba246adde4\",\"type\":\"GlyphRenderer\"},{\"attributes\":{\"axis_label\":\"Idx\",\"formatter\":{\"id\":\"30840d2e-c758-4680-804c-4a5975c2df3b\",\"type\":\"CategoricalTickFormatter\"},\"major_label_orientation\":0.7853981633974483,\"plot\":{\"id\":\"639a9ea3-9b13-41ab-9b89-e4b39286cc63\",\"subtype\":\"Chart\",\"type\":\"Plot\"},\"ticker\":{\"id\":\"962beb1a-7684-45fd-8b00-7504658efcd8\",\"type\":\"CategoricalTicker\"}},\"id\":\"fb0749dc-ccc4-4d17-ac3a-33511ba00f1c\",\"type\":\"CategoricalAxis\"},{\"attributes\":{\"data_source\":{\"id\":\"fd3c776d-fd29-40a5-92ae-c0ec765b5437\",\"type\":\"ColumnDataSource\"},\"glyph\":{\"id\":\"c52bef45-32b1-433a-8c72-8402abeb7bbb\",\"type\":\"Rect\"},\"hover_glyph\":null,\"nonselection_glyph\":null,\"selection_glyph\":null},\"id\":\"1924b440-a0e3-47f6-b031-f3df56b5a86a\",\"type\":\"GlyphRenderer\"},{\"attributes\":{\"plot\":{\"id\":\"639a9ea3-9b13-41ab-9b89-e4b39286cc63\",\"subtype\":\"Chart\",\"type\":\"Plot\"}},\"id\":\"56fbd11a-ec84-43dc-bbf6-9cebb7a26a61\",\"type\":\"WheelZoomTool\"},{\"attributes\":{\"data_source\":{\"id\":\"4a73afeb-947c-49d8-95af-94e9630cc449\",\"type\":\"ColumnDataSource\"},\"glyph\":{\"id\":\"9a2ca850-d81c-49f5-a74f-0897d68580ac\",\"type\":\"Rect\"},\"hover_glyph\":null,\"nonselection_glyph\":null,\"selection_glyph\":null},\"id\":\"edfb96ca-9177-452a-9cfe-a541f194d0e0\",\"type\":\"GlyphRenderer\"},{\"attributes\":{\"fill_alpha\":{\"field\":\"fill_alpha\"},\"fill_color\":{\"field\":\"color\"},\"height\":{\"field\":\"height\",\"units\":\"data\"},\"line_color\":{\"field\":\"line_color\"},\"width\":{\"field\":\"width\",\"units\":\"data\"},\"x\":{\"field\":\"x\"},\"y\":{\"field\":\"y\"}},\"id\":\"784194b8-9159-4eb4-9ffd-7c95fffd1d76\",\"type\":\"Rect\"},{\"attributes\":{\"data_source\":{\"id\":\"77b5dc47-6d60-49ae-b91d-48fd0c7ab2e3\",\"type\":\"ColumnDataSource\"},\"glyph\":{\"id\":\"459dbcad-494e-4540-9f54-be026f85828b\",\"type\":\"Rect\"},\"hover_glyph\":null,\"nonselection_glyph\":null,\"selection_glyph\":null},\"id\":\"9004a77b-e7fc-4ace-bc05-7110ee2c4363\",\"type\":\"GlyphRenderer\"},{\"attributes\":{\"data_source\":{\"id\":\"2bd0caab-d4d3-410d-b32a-ffb3b59fd9cb\",\"type\":\"ColumnDataSource\"},\"glyph\":{\"id\":\"39656b9c-27cf-448b-8220-4199beddc9b6\",\"type\":\"Rect\"},\"hover_glyph\":null,\"nonselection_glyph\":null,\"selection_glyph\":null},\"id\":\"e68e2ec7-d3a6-41f9-bc29-e85c7be90a4b\",\"type\":\"GlyphRenderer\"},{\"attributes\":{\"data_source\":{\"id\":\"249f7f71-79db-4528-bc66-8d166f26eaa0\",\"type\":\"ColumnDataSource\"},\"glyph\":{\"id\":\"b003f934-8239-4665-aaa0-d7aab3ef6fa4\",\"type\":\"Rect\"},\"hover_glyph\":null,\"nonselection_glyph\":null,\"selection_glyph\":null},\"id\":\"87a5f776-4b60-48bd-ab64-1f07b77b1267\",\"type\":\"GlyphRenderer\"},{\"attributes\":{\"callback\":null,\"end\":279.3},\"id\":\"2289325d-b82b-45fc-a797-9b5c6facc32b\",\"type\":\"Range1d\"},{\"attributes\":{\"callback\":null,\"column_names\":[\"width\",\"color\",\"line_alpha\",\"height\",\"y\",\"x\",\"fill_alpha\",\"line_color\"],\"data\":{\"category\":[\"C\"],\"chart_index\":[{\"category\":\"C\",\"idx\":2}],\"color\":[\"#407ee7\"],\"fill_alpha\":[0.8],\"height\":[22.0],\"idx\":[2],\"line_alpha\":[1.0],\"line_color\":[\"white\"],\"width\":[0.8],\"x\":[\"2\"],\"y\":[68.0]}},\"id\":\"65bc1a5c-b85a-407d-b022-2e01c927e871\",\"type\":\"ColumnDataSource\"},{\"attributes\":{\"callback\":null,\"column_names\":[\"width\",\"color\",\"line_alpha\",\"height\",\"y\",\"x\",\"fill_alpha\",\"line_color\"],\"data\":{\"category\":[\"B\"],\"chart_index\":[{\"category\":\"B\",\"idx\":5}],\"color\":[\"#5ab738\"],\"fill_alpha\":[0.8],\"height\":[78.0],\"idx\":[5],\"line_alpha\":[1.0],\"line_color\":[\"white\"],\"width\":[0.8],\"x\":[\"5\"],\"y\":[128.0]}},\"id\":\"96028d90-f973-4ee4-9145-cc4c0efc236d\",\"type\":\"ColumnDataSource\"},{\"attributes\":{\"data_source\":{\"id\":\"9db0ec6d-250c-4e51-9544-58d6012e712a\",\"type\":\"ColumnDataSource\"},\"glyph\":{\"id\":\"6109c089-8db8-4035-9376-467228974155\",\"type\":\"Rect\"},\"hover_glyph\":null,\"nonselection_glyph\":null,\"selection_glyph\":null},\"id\":\"f9b2f595-8c74-4936-9e0d-8ccf3a5939d7\",\"type\":\"GlyphRenderer\"},{\"attributes\":{\"axis_label\":\"Sum( 0 )\",\"formatter\":{\"id\":\"958a39c6-b054-4d56-96ef-3d086708954f\",\"type\":\"BasicTickFormatter\"},\"plot\":{\"id\":\"19169c10-a87b-4cc9-a264-81f2d2e2b381\",\"subtype\":\"Chart\",\"type\":\"Plot\"},\"ticker\":{\"id\":\"d43b6f29-8c95-4ed4-8dc0-7bf277b7cbdf\",\"type\":\"BasicTicker\"}},\"id\":\"0e43f284-3c87-4d29-a5fa-5c06ce283115\",\"type\":\"LinearAxis\"},{\"attributes\":{\"callback\":null,\"column_names\":[\"width\",\"color\",\"line_alpha\",\"height\",\"y\",\"x\",\"fill_alpha\",\"line_color\"],\"data\":{\"chart_index\":[{\"level_0\":\"C\",\"level_1\":5}],\"color\":[\"#407ee7\"],\"fill_alpha\":[0.8],\"height\":[99.0],\"level_0\":[\"C\"],\"level_1\":[5],\"line_alpha\":[1.0],\"line_color\":[\"white\"],\"width\":[0.8],\"x\":[\"5\"],\"y\":[216.5]}},\"id\":\"c327f863-d761-4efb-a0df-996af814b8b3\",\"type\":\"ColumnDataSource\"},{\"attributes\":{},\"id\":\"c5cf7973-5dd9-4463-9b9d-2c7919e51c77\",\"type\":\"ToolEvents\"},{\"attributes\":{\"legends\":[[\"A\",[{\"id\":\"060525f4-97d5-4ca6-a5ce-2c14806806d8\",\"type\":\"GlyphRenderer\"}]],[\"B\",[{\"id\":\"254b3323-f330-4dc4-8604-d33a9dc40dec\",\"type\":\"GlyphRenderer\"}]],[\"C\",[{\"id\":\"310a2b67-d372-48df-8cad-3f0aa7430025\",\"type\":\"GlyphRenderer\"}]]],\"location\":\"top_left\",\"plot\":{\"id\":\"19169c10-a87b-4cc9-a264-81f2d2e2b381\",\"subtype\":\"Chart\",\"type\":\"Plot\"}},\"id\":\"bb1e7a4a-6531-48ea-9829-3983f14b44ed\",\"type\":\"Legend\"},{\"attributes\":{\"fill_alpha\":{\"field\":\"fill_alpha\"},\"fill_color\":{\"field\":\"color\"},\"height\":{\"field\":\"height\",\"units\":\"data\"},\"line_color\":{\"field\":\"line_color\"},\"width\":{\"field\":\"width\",\"units\":\"data\"},\"x\":{\"field\":\"x\"},\"y\":{\"field\":\"y\"}},\"id\":\"6eaf78a9-a850-4f02-a576-3f86ebe27e81\",\"type\":\"Rect\"},{\"attributes\":{\"fill_alpha\":{\"field\":\"fill_alpha\"},\"fill_color\":{\"field\":\"color\"},\"height\":{\"field\":\"height\",\"units\":\"data\"},\"line_color\":{\"field\":\"line_color\"},\"width\":{\"field\":\"width\",\"units\":\"data\"},\"x\":{\"field\":\"x\"},\"y\":{\"field\":\"y\"}},\"id\":\"6304e2aa-d4eb-4e69-9b7e-b4abb2fc93ef\",\"type\":\"Rect\"},{\"attributes\":{\"callback\":null,\"column_names\":[\"width\",\"color\",\"line_alpha\",\"height\",\"y\",\"x\",\"fill_alpha\",\"line_color\"],\"data\":{\"category\":[\"C\"],\"chart_index\":[{\"category\":\"C\",\"idx\":5}],\"color\":[\"#407ee7\"],\"fill_alpha\":[0.8],\"height\":[99.0],\"idx\":[5],\"line_alpha\":[1.0],\"line_color\":[\"white\"],\"width\":[0.8],\"x\":[\"5\"],\"y\":[216.5]}},\"id\":\"2bd0caab-d4d3-410d-b32a-ffb3b59fd9cb\",\"type\":\"ColumnDataSource\"},{\"attributes\":{\"bottom_units\":\"screen\",\"fill_alpha\":{\"value\":0.5},\"fill_color\":{\"value\":\"lightgrey\"},\"left_units\":\"screen\",\"level\":\"overlay\",\"line_alpha\":{\"value\":1.0},\"line_color\":{\"value\":\"black\"},\"line_dash\":[4,4],\"line_width\":{\"value\":2},\"plot\":null,\"render_mode\":\"css\",\"right_units\":\"screen\",\"top_units\":\"screen\"},\"id\":\"f24f6777-fdf5-41f9-bf7c-37c3ee777454\",\"type\":\"BoxAnnotation\"},{\"attributes\":{\"plot\":{\"id\":\"19169c10-a87b-4cc9-a264-81f2d2e2b381\",\"subtype\":\"Chart\",\"type\":\"Plot\"}},\"id\":\"570522b5-8a0e-4ef3-abc7-a84b68557100\",\"type\":\"WheelZoomTool\"},{\"attributes\":{\"plot\":{\"id\":\"639a9ea3-9b13-41ab-9b89-e4b39286cc63\",\"subtype\":\"Chart\",\"type\":\"Plot\"}},\"id\":\"d1fb0057-84b0-455a-bd9b-18d7fb3700c4\",\"type\":\"PanTool\"},{\"attributes\":{\"below\":[{\"id\":\"fb0749dc-ccc4-4d17-ac3a-33511ba00f1c\",\"type\":\"CategoricalAxis\"}],\"left\":[{\"id\":\"d0fc8a3c-f1da-4adf-b046-b2c2e4ed597b\",\"type\":\"LinearAxis\"}],\"legend\":true,\"renderers\":[{\"id\":\"f24f6777-fdf5-41f9-bf7c-37c3ee777454\",\"type\":\"BoxAnnotation\"},{\"id\":\"88cfaf30-aff8-4dc9-a58b-29bf7fbb27e4\",\"type\":\"GlyphRenderer\"},{\"id\":\"8842806a-66cc-4e18-95ff-36127a501f9c\",\"type\":\"GlyphRenderer\"},{\"id\":\"1924b440-a0e3-47f6-b031-f3df56b5a86a\",\"type\":\"GlyphRenderer\"},{\"id\":\"f9b2f595-8c74-4936-9e0d-8ccf3a5939d7\",\"type\":\"GlyphRenderer\"},{\"id\":\"649c4994-e212-452f-83a8-a294dd933fc9\",\"type\":\"GlyphRenderer\"},{\"id\":\"2bf81f75-4df0-4821-8aaf-66bbc007fbc5\",\"type\":\"GlyphRenderer\"},{\"id\":\"b7492c80-d709-46bf-b4c6-54de0a8d8760\",\"type\":\"GlyphRenderer\"},{\"id\":\"d5d86269-0484-4d62-a4ec-07af976f33b7\",\"type\":\"GlyphRenderer\"},{\"id\":\"4bc0bc7b-3b0c-4684-aae9-a41b756042e6\",\"type\":\"GlyphRenderer\"},{\"id\":\"e527ff14-af77-4762-8b20-16d4accb9357\",\"type\":\"GlyphRenderer\"},{\"id\":\"9004a77b-e7fc-4ace-bc05-7110ee2c4363\",\"type\":\"GlyphRenderer\"},{\"id\":\"77c19b33-965e-4f53-b10f-1a7f45b8df2b\",\"type\":\"GlyphRenderer\"},{\"id\":\"24a7d532-bf64-4790-8b94-5dba246adde4\",\"type\":\"GlyphRenderer\"},{\"id\":\"a62ed090-878b-4ba3-81a9-b0e135f3d545\",\"type\":\"GlyphRenderer\"},{\"id\":\"e68e2ec7-d3a6-41f9-bc29-e85c7be90a4b\",\"type\":\"GlyphRenderer\"},{\"id\":\"c8f883b2-53e4-46cf-a807-ca1ca47f143f\",\"type\":\"Legend\"},{\"id\":\"fb0749dc-ccc4-4d17-ac3a-33511ba00f1c\",\"type\":\"CategoricalAxis\"},{\"id\":\"d0fc8a3c-f1da-4adf-b046-b2c2e4ed597b\",\"type\":\"LinearAxis\"},{\"id\":\"c7ac1e45-6005-49b3-acb7-16078311f272\",\"type\":\"Grid\"}],\"title\":\"Stacked Bar Example\",\"title_text_font_size\":{\"value\":\"14pt\"},\"tool_events\":{\"id\":\"cc3fd792-a4fe-473a-8e69-05a7a5c10e34\",\"type\":\"ToolEvents\"},\"tools\":[{\"id\":\"d1fb0057-84b0-455a-bd9b-18d7fb3700c4\",\"type\":\"PanTool\"},{\"id\":\"56fbd11a-ec84-43dc-bbf6-9cebb7a26a61\",\"type\":\"WheelZoomTool\"},{\"id\":\"ecf867ae-6566-46b5-adec-cfbc4e40910b\",\"type\":\"BoxZoomTool\"},{\"id\":\"22d7f4ed-3442-470b-bd69-3e5813b2fbb0\",\"type\":\"PreviewSaveTool\"},{\"id\":\"7714c82f-8541-4bf1-acf6-8da861829bd5\",\"type\":\"ResizeTool\"},{\"id\":\"03ac1006-6f83-4087-9344-f827957476b1\",\"type\":\"ResetTool\"},{\"id\":\"216dff49-9068-408e-b0a1-4e391795aaa1\",\"type\":\"HelpTool\"}],\"x_mapper_type\":\"auto\",\"x_range\":{\"id\":\"e8d9b6bb-c1b2-4e01-87fc-f690c7ba01fc\",\"type\":\"FactorRange\"},\"xgrid\":false,\"xscale\":\"auto\",\"y_mapper_type\":\"auto\",\"y_range\":{\"id\":\"2289325d-b82b-45fc-a797-9b5c6facc32b\",\"type\":\"Range1d\"},\"yscale\":\"auto\"},\"id\":\"639a9ea3-9b13-41ab-9b89-e4b39286cc63\",\"subtype\":\"Chart\",\"type\":\"Plot\"},{\"attributes\":{},\"id\":\"575bed52-9751-4d08-9048-54570187aa0b\",\"type\":\"CategoricalTicker\"},{\"attributes\":{\"callback\":null,\"column_names\":[\"width\",\"color\",\"line_alpha\",\"height\",\"y\",\"x\",\"fill_alpha\",\"line_color\"],\"data\":{\"chart_index\":[{\"level_0\":\"A\",\"level_1\":4}],\"color\":[\"#f22c40\"],\"fill_alpha\":[0.8],\"height\":[60.0],\"level_0\":[\"A\"],\"level_1\":[4],\"line_alpha\":[1.0],\"line_color\":[\"white\"],\"width\":[0.8],\"x\":[\"4\"],\"y\":[30.0]}},\"id\":\"249f7f71-79db-4528-bc66-8d166f26eaa0\",\"type\":\"ColumnDataSource\"},{\"attributes\":{\"below\":[{\"id\":\"8b69f929-ee38-458f-86a7-f9fdc3eb3887\",\"type\":\"CategoricalAxis\"}],\"left\":[{\"id\":\"0e43f284-3c87-4d29-a5fa-5c06ce283115\",\"type\":\"LinearAxis\"}],\"legend\":true,\"renderers\":[{\"id\":\"f58bae04-67e4-4e85-9f73-fd1942ba22a6\",\"type\":\"BoxAnnotation\"},{\"id\":\"060525f4-97d5-4ca6-a5ce-2c14806806d8\",\"type\":\"GlyphRenderer\"},{\"id\":\"edfb96ca-9177-452a-9cfe-a541f194d0e0\",\"type\":\"GlyphRenderer\"},{\"id\":\"d0480487-59e7-4a43-8608-026843265fac\",\"type\":\"GlyphRenderer\"},{\"id\":\"87a5f776-4b60-48bd-ab64-1f07b77b1267\",\"type\":\"GlyphRenderer\"},{\"id\":\"f30f18b6-3db3-4bf3-a0be-d6e8925b193b\",\"type\":\"GlyphRenderer\"},{\"id\":\"254b3323-f330-4dc4-8604-d33a9dc40dec\",\"type\":\"GlyphRenderer\"},{\"id\":\"15a3fed1-afeb-44e6-a6cb-c5e47de94119\",\"type\":\"GlyphRenderer\"},{\"id\":\"ce6a6b6d-86f9-4c7f-9fed-77ee403c50e2\",\"type\":\"GlyphRenderer\"},{\"id\":\"d37e145c-d981-46f5-a28a-42b584e5d881\",\"type\":\"GlyphRenderer\"},{\"id\":\"9c8b2ea2-9a1f-4c00-b094-2b4da9957a0f\",\"type\":\"GlyphRenderer\"},{\"id\":\"310a2b67-d372-48df-8cad-3f0aa7430025\",\"type\":\"GlyphRenderer\"},{\"id\":\"c766190c-523f-480a-97d7-d05fbba940f1\",\"type\":\"GlyphRenderer\"},{\"id\":\"35d03c32-d440-47de-9798-864acced95a2\",\"type\":\"GlyphRenderer\"},{\"id\":\"62f5da90-0ea1-4aab-8662-7d0911a21c9b\",\"type\":\"GlyphRenderer\"},{\"id\":\"9d7b3331-3e38-420c-9b1f-17b0c497ae8a\",\"type\":\"GlyphRenderer\"},{\"id\":\"bb1e7a4a-6531-48ea-9829-3983f14b44ed\",\"type\":\"Legend\"},{\"id\":\"8b69f929-ee38-458f-86a7-f9fdc3eb3887\",\"type\":\"CategoricalAxis\"},{\"id\":\"0e43f284-3c87-4d29-a5fa-5c06ce283115\",\"type\":\"LinearAxis\"},{\"id\":\"ca8e1d26-0408-49ad-99f3-2b03025160d2\",\"type\":\"Grid\"}],\"title_text_font_size\":{\"value\":\"14pt\"},\"tool_events\":{\"id\":\"c5cf7973-5dd9-4463-9b9d-2c7919e51c77\",\"type\":\"ToolEvents\"},\"tools\":[{\"id\":\"2ad47ecf-fc85-455c-923c-35e94996c122\",\"type\":\"PanTool\"},{\"id\":\"570522b5-8a0e-4ef3-abc7-a84b68557100\",\"type\":\"WheelZoomTool\"},{\"id\":\"f7ea7e0b-e229-49ba-91d5-ff111680b82f\",\"type\":\"BoxZoomTool\"},{\"id\":\"848b7d98-3a85-4f1f-9ab6-477b4d517844\",\"type\":\"PreviewSaveTool\"},{\"id\":\"4fb568aa-10d2-4f96-985f-e2465e709602\",\"type\":\"ResizeTool\"},{\"id\":\"c6e476b2-3b04-4445-a567-3ce6f4ef62c9\",\"type\":\"ResetTool\"},{\"id\":\"9fe58896-cdfd-4254-86f7-b03887eea8db\",\"type\":\"HelpTool\"}],\"x_mapper_type\":\"auto\",\"x_range\":{\"id\":\"84ea0660-1425-4200-9139-2d46900b633b\",\"type\":\"FactorRange\"},\"xgrid\":false,\"xscale\":\"auto\",\"y_mapper_type\":\"auto\",\"y_range\":{\"id\":\"afdf4e34-0387-440b-b2b5-9c8aa0606263\",\"type\":\"Range1d\"},\"yscale\":\"auto\"},\"id\":\"19169c10-a87b-4cc9-a264-81f2d2e2b381\",\"subtype\":\"Chart\",\"type\":\"Plot\"},{\"attributes\":{\"fill_alpha\":{\"field\":\"fill_alpha\"},\"fill_color\":{\"field\":\"color\"},\"height\":{\"field\":\"height\",\"units\":\"data\"},\"line_color\":{\"field\":\"line_color\"},\"width\":{\"field\":\"width\",\"units\":\"data\"},\"x\":{\"field\":\"x\"},\"y\":{\"field\":\"y\"}},\"id\":\"5e50d04a-35f9-41c4-a295-d35b758056c6\",\"type\":\"Rect\"},{\"attributes\":{\"callback\":null,\"column_names\":[\"width\",\"color\",\"line_alpha\",\"height\",\"y\",\"x\",\"fill_alpha\",\"line_color\"],\"data\":{\"category\":[\"A\"],\"chart_index\":[{\"category\":\"A\",\"idx\":5}],\"color\":[\"#f22c40\"],\"fill_alpha\":[0.8],\"height\":[89.0],\"idx\":[5],\"line_alpha\":[1.0],\"line_color\":[\"white\"],\"width\":[0.8],\"x\":[\"5\"],\"y\":[44.5]}},\"id\":\"93920538-50ee-41e0-920a-cd1c4f51cf55\",\"type\":\"ColumnDataSource\"},{\"attributes\":{\"fill_alpha\":{\"field\":\"fill_alpha\"},\"fill_color\":{\"field\":\"color\"},\"height\":{\"field\":\"height\",\"units\":\"data\"},\"line_color\":{\"field\":\"line_color\"},\"width\":{\"field\":\"width\",\"units\":\"data\"},\"x\":{\"field\":\"x\"},\"y\":{\"field\":\"y\"}},\"id\":\"b003f934-8239-4665-aaa0-d7aab3ef6fa4\",\"type\":\"Rect\"},{\"attributes\":{\"fill_alpha\":{\"field\":\"fill_alpha\"},\"fill_color\":{\"field\":\"color\"},\"height\":{\"field\":\"height\",\"units\":\"data\"},\"line_color\":{\"field\":\"line_color\"},\"width\":{\"field\":\"width\",\"units\":\"data\"},\"x\":{\"field\":\"x\"},\"y\":{\"field\":\"y\"}},\"id\":\"b703c675-c2bb-463c-9e44-554d1a43d8d0\",\"type\":\"Rect\"},{\"attributes\":{},\"id\":\"cc3fd792-a4fe-473a-8e69-05a7a5c10e34\",\"type\":\"ToolEvents\"},{\"attributes\":{\"fill_alpha\":{\"field\":\"fill_alpha\"},\"fill_color\":{\"field\":\"color\"},\"height\":{\"field\":\"height\",\"units\":\"data\"},\"line_color\":{\"field\":\"line_color\"},\"width\":{\"field\":\"width\",\"units\":\"data\"},\"x\":{\"field\":\"x\"},\"y\":{\"field\":\"y\"}},\"id\":\"6109c089-8db8-4035-9376-467228974155\",\"type\":\"Rect\"},{\"attributes\":{\"callback\":null,\"column_names\":[\"width\",\"color\",\"line_alpha\",\"height\",\"y\",\"x\",\"fill_alpha\",\"line_color\"],\"data\":{\"category\":[\"C\"],\"chart_index\":[{\"category\":\"C\",\"idx\":4}],\"color\":[\"#407ee7\"],\"fill_alpha\":[0.8],\"height\":[82.0],\"idx\":[4],\"line_alpha\":[1.0],\"line_color\":[\"white\"],\"width\":[0.8],\"x\":[\"4\"],\"y\":[156.0]}},\"id\":\"48641a71-6b11-4517-8b47-106dfe93a427\",\"type\":\"ColumnDataSource\"},{\"attributes\":{\"callback\":null,\"column_names\":[\"width\",\"color\",\"line_alpha\",\"height\",\"y\",\"x\",\"fill_alpha\",\"line_color\"],\"data\":{\"category\":[\"A\"],\"chart_index\":[{\"category\":\"A\",\"idx\":3}],\"color\":[\"#f22c40\"],\"fill_alpha\":[0.8],\"height\":[40.0],\"idx\":[3],\"line_alpha\":[1.0],\"line_color\":[\"white\"],\"width\":[0.8],\"x\":[\"3\"],\"y\":[20.0]}},\"id\":\"fd3c776d-fd29-40a5-92ae-c0ec765b5437\",\"type\":\"ColumnDataSource\"},{\"attributes\":{\"callback\":null,\"column_names\":[\"width\",\"color\",\"line_alpha\",\"height\",\"y\",\"x\",\"fill_alpha\",\"line_color\"],\"data\":{\"chart_index\":[{\"level_0\":\"C\",\"level_1\":2}],\"color\":[\"#407ee7\"],\"fill_alpha\":[0.8],\"height\":[22.0],\"level_0\":[\"C\"],\"level_1\":[2],\"line_alpha\":[1.0],\"line_color\":[\"white\"],\"width\":[0.8],\"x\":[\"2\"],\"y\":[68.0]}},\"id\":\"ece75a61-9d51-4f02-952b-4c0af174f2c4\",\"type\":\"ColumnDataSource\"},{\"attributes\":{\"fill_alpha\":{\"field\":\"fill_alpha\"},\"fill_color\":{\"field\":\"color\"},\"height\":{\"field\":\"height\",\"units\":\"data\"},\"line_color\":{\"field\":\"line_color\"},\"width\":{\"field\":\"width\",\"units\":\"data\"},\"x\":{\"field\":\"x\"},\"y\":{\"field\":\"y\"}},\"id\":\"38e35255-89ec-48fc-af45-dad651a9df5f\",\"type\":\"Rect\"},{\"attributes\":{\"fill_alpha\":{\"field\":\"fill_alpha\"},\"fill_color\":{\"field\":\"color\"},\"height\":{\"field\":\"height\",\"units\":\"data\"},\"line_color\":{\"field\":\"line_color\"},\"width\":{\"field\":\"width\",\"units\":\"data\"},\"x\":{\"field\":\"x\"},\"y\":{\"field\":\"y\"}},\"id\":\"5195933a-ab2e-472c-95c4-d511229e9b02\",\"type\":\"Rect\"},{\"attributes\":{\"dimension\":1,\"plot\":{\"id\":\"19169c10-a87b-4cc9-a264-81f2d2e2b381\",\"subtype\":\"Chart\",\"type\":\"Plot\"},\"ticker\":{\"id\":\"d43b6f29-8c95-4ed4-8dc0-7bf277b7cbdf\",\"type\":\"BasicTicker\"}},\"id\":\"ca8e1d26-0408-49ad-99f3-2b03025160d2\",\"type\":\"Grid\"},{\"attributes\":{\"fill_alpha\":{\"field\":\"fill_alpha\"},\"fill_color\":{\"field\":\"color\"},\"height\":{\"field\":\"height\",\"units\":\"data\"},\"line_color\":{\"field\":\"line_color\"},\"width\":{\"field\":\"width\",\"units\":\"data\"},\"x\":{\"field\":\"x\"},\"y\":{\"field\":\"y\"}},\"id\":\"d8e48cc9-66a0-468e-b12b-7aa3ad8a0d2a\",\"type\":\"Rect\"},{\"attributes\":{\"callback\":null,\"factors\":[\"1\",\"2\",\"3\",\"4\",\"5\"]},\"id\":\"84ea0660-1425-4200-9139-2d46900b633b\",\"type\":\"FactorRange\"},{\"attributes\":{\"data_source\":{\"id\":\"7d16e0ca-c9a7-48d3-97b9-88778cba2fc4\",\"type\":\"ColumnDataSource\"},\"glyph\":{\"id\":\"740e1d0a-6a50-4763-8ce6-2e746b50f9e1\",\"type\":\"Rect\"},\"hover_glyph\":null,\"nonselection_glyph\":null,\"selection_glyph\":null},\"id\":\"d37e145c-d981-46f5-a28a-42b584e5d881\",\"type\":\"GlyphRenderer\"},{\"attributes\":{\"legends\":[[\"A\",[{\"id\":\"88cfaf30-aff8-4dc9-a58b-29bf7fbb27e4\",\"type\":\"GlyphRenderer\"}]],[\"B\",[{\"id\":\"2bf81f75-4df0-4821-8aaf-66bbc007fbc5\",\"type\":\"GlyphRenderer\"}]],[\"C\",[{\"id\":\"9004a77b-e7fc-4ace-bc05-7110ee2c4363\",\"type\":\"GlyphRenderer\"}]]],\"location\":\"top_left\",\"plot\":{\"id\":\"639a9ea3-9b13-41ab-9b89-e4b39286cc63\",\"subtype\":\"Chart\",\"type\":\"Plot\"}},\"id\":\"c8f883b2-53e4-46cf-a807-ca1ca47f143f\",\"type\":\"Legend\"},{\"attributes\":{\"fill_alpha\":{\"field\":\"fill_alpha\"},\"fill_color\":{\"field\":\"color\"},\"height\":{\"field\":\"height\",\"units\":\"data\"},\"line_color\":{\"field\":\"line_color\"},\"width\":{\"field\":\"width\",\"units\":\"data\"},\"x\":{\"field\":\"x\"},\"y\":{\"field\":\"y\"}},\"id\":\"40524e7e-9cb9-4332-9f16-23fb34e5de52\",\"type\":\"Rect\"},{\"attributes\":{\"fill_alpha\":{\"field\":\"fill_alpha\"},\"fill_color\":{\"field\":\"color\"},\"height\":{\"field\":\"height\",\"units\":\"data\"},\"line_color\":{\"field\":\"line_color\"},\"width\":{\"field\":\"width\",\"units\":\"data\"},\"x\":{\"field\":\"x\"},\"y\":{\"field\":\"y\"}},\"id\":\"f2ca7c88-2b91-4e27-b0f5-e053b53caa7e\",\"type\":\"Rect\"},{\"attributes\":{\"callback\":null,\"column_names\":[\"width\",\"color\",\"line_alpha\",\"height\",\"y\",\"x\",\"fill_alpha\",\"line_color\"],\"data\":{\"category\":[\"B\"],\"chart_index\":[{\"category\":\"B\",\"idx\":4}],\"color\":[\"#5ab738\"],\"fill_alpha\":[0.8],\"height\":[55.0],\"idx\":[4],\"line_alpha\":[1.0],\"line_color\":[\"white\"],\"width\":[0.8],\"x\":[\"4\"],\"y\":[87.5]}},\"id\":\"b7b3579a-83f7-4c86-a991-f400edbd854e\",\"type\":\"ColumnDataSource\"}],\"root_ids\":[\"19169c10-a87b-4cc9-a264-81f2d2e2b381\",\"639a9ea3-9b13-41ab-9b89-e4b39286cc63\"]},\"title\":\"Bokeh Application\",\"version\":\"0.11.1\"}};\n",
       "            var render_items = [{\"docid\":\"e9297e55-5748-44e1-b181-62bad187be9b\",\"elementid\":\"ab15acbb-07b6-48b3-9b1f-96c0c8f9faa8\",\"modelid\":\"639a9ea3-9b13-41ab-9b89-e4b39286cc63\",\"notebook_comms_target\":\"3fbd995f-8464-403c-9569-79139a3f6d13\"}];\n",
       "            \n",
       "            Bokeh.embed.embed_items(docs_json, render_items);\n",
       "        });\n",
       "      },\n",
       "      function(Bokeh) {\n",
       "      }\n",
       "    ];\n",
       "  \n",
       "    function run_inline_js() {\n",
       "      for (var i = 0; i < inline_js.length; i++) {\n",
       "        inline_js[i](window.Bokeh);\n",
       "      }\n",
       "    }\n",
       "  \n",
       "    if (window._bokeh_is_loading === 0) {\n",
       "      console.log(\"Bokeh: BokehJS loaded, going straight to plotting\");\n",
       "      run_inline_js();\n",
       "    } else {\n",
       "      load_libs(js_urls, function() {\n",
       "        console.log(\"Bokeh: BokehJS plotting callback run at\", now());\n",
       "        run_inline_js();\n",
       "      });\n",
       "    }\n",
       "  }(this));\n",
       "</script>"
      ]
     },
     "metadata": {},
     "output_type": "display_data"
    }
   ],
   "source": [
    "fig = stacked_bar(df, 'idx', 'category', 'Stacked Bar Example')\n",
    "plt.show(fig);"
   ]
  },
  {
   "cell_type": "code",
   "execution_count": null,
   "metadata": {
    "collapsed": true
   },
   "outputs": [],
   "source": []
  }
 ],
 "metadata": {
  "kernelspec": {
   "display_name": "python-dev",
   "language": "python",
   "name": "python-dev"
  },
  "language_info": {
   "codemirror_mode": {
    "name": "ipython",
    "version": 3
   },
   "file_extension": ".py",
   "mimetype": "text/x-python",
   "name": "python",
   "nbconvert_exporter": "python",
   "pygments_lexer": "ipython3",
   "version": "3.5.1"
  }
 },
 "nbformat": 4,
 "nbformat_minor": 0
}
