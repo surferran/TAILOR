{
  "cells": [
    {
      "cell_type": "code",
      "execution_count": null,
      "metadata": {
        "collapsed": false
      },
      "outputs": [],
      "source": [
        "%matplotlib inline"
      ]
    },
    {
      "cell_type": "markdown",
      "metadata": {},
      "source": [
        "\n# Demo Agg Filter\n\n\n\n"
      ]
    },
    {
      "cell_type": "code",
      "execution_count": null,
      "metadata": {
        "collapsed": false
      },
      "outputs": [],
      "source": [
        "import matplotlib.pyplot as plt\n\nimport numpy as np\nimport matplotlib.cm as cm\nimport matplotlib.transforms as mtransforms\nfrom matplotlib.colors import LightSource\nfrom matplotlib.artist import Artist\n\n\ndef smooth1d(x, window_len):\n    # copied from http://www.scipy.org/Cookbook/SignalSmooth\n\n    s = np.r_[2*x[0] - x[window_len:1:-1], x, 2*x[-1] - x[-1:-window_len:-1]]\n    w = np.hanning(window_len)\n    y = np.convolve(w/w.sum(), s, mode='same')\n    return y[window_len-1:-window_len+1]\n\n\ndef smooth2d(A, sigma=3):\n\n    window_len = max(int(sigma), 3)*2 + 1\n    A1 = np.array([smooth1d(x, window_len) for x in np.asarray(A)])\n    A2 = np.transpose(A1)\n    A3 = np.array([smooth1d(x, window_len) for x in A2])\n    A4 = np.transpose(A3)\n\n    return A4\n\n\nclass BaseFilter(object):\n    def prepare_image(self, src_image, dpi, pad):\n        ny, nx, depth = src_image.shape\n        # tgt_image = np.zeros([pad*2+ny, pad*2+nx, depth], dtype=\"d\")\n        padded_src = np.zeros([pad*2 + ny, pad*2 + nx, depth], dtype=\"d\")\n        padded_src[pad:-pad, pad:-pad, :] = src_image[:, :, :]\n\n        return padded_src  # , tgt_image\n\n    def get_pad(self, dpi):\n        return 0\n\n    def __call__(self, im, dpi):\n        pad = self.get_pad(dpi)\n        padded_src = self.prepare_image(im, dpi, pad)\n        tgt_image = self.process_image(padded_src, dpi)\n        return tgt_image, -pad, -pad\n\n\nclass OffsetFilter(BaseFilter):\n    def __init__(self, offsets=None):\n        if offsets is None:\n            self.offsets = (0, 0)\n        else:\n            self.offsets = offsets\n\n    def get_pad(self, dpi):\n        return int(max(*self.offsets)/72.*dpi)\n\n    def process_image(self, padded_src, dpi):\n        ox, oy = self.offsets\n        a1 = np.roll(padded_src, int(ox/72.*dpi), axis=1)\n        a2 = np.roll(a1, -int(oy/72.*dpi), axis=0)\n        return a2\n\n\nclass GaussianFilter(BaseFilter):\n    \"simple gauss filter\"\n\n    def __init__(self, sigma, alpha=0.5, color=None):\n        self.sigma = sigma\n        self.alpha = alpha\n        if color is None:\n            self.color = (0, 0, 0)\n        else:\n            self.color = color\n\n    def get_pad(self, dpi):\n        return int(self.sigma*3/72.*dpi)\n\n    def process_image(self, padded_src, dpi):\n        # offsetx, offsety = int(self.offsets[0]), int(self.offsets[1])\n        tgt_image = np.zeros_like(padded_src)\n        aa = smooth2d(padded_src[:, :, -1]*self.alpha,\n                      self.sigma/72.*dpi)\n        tgt_image[:, :, -1] = aa\n        tgt_image[:, :, :-1] = self.color\n        return tgt_image\n\n\nclass DropShadowFilter(BaseFilter):\n    def __init__(self, sigma, alpha=0.3, color=None, offsets=None):\n        self.gauss_filter = GaussianFilter(sigma, alpha, color)\n        self.offset_filter = OffsetFilter(offsets)\n\n    def get_pad(self, dpi):\n        return max(self.gauss_filter.get_pad(dpi),\n                   self.offset_filter.get_pad(dpi))\n\n    def process_image(self, padded_src, dpi):\n        t1 = self.gauss_filter.process_image(padded_src, dpi)\n        t2 = self.offset_filter.process_image(t1, dpi)\n        return t2\n\n\nclass LightFilter(BaseFilter):\n    \"simple gauss filter\"\n\n    def __init__(self, sigma, fraction=0.5):\n        self.gauss_filter = GaussianFilter(sigma, alpha=1)\n        self.light_source = LightSource()\n        self.fraction = fraction\n\n    def get_pad(self, dpi):\n        return self.gauss_filter.get_pad(dpi)\n\n    def process_image(self, padded_src, dpi):\n        t1 = self.gauss_filter.process_image(padded_src, dpi)\n        elevation = t1[:, :, 3]\n        rgb = padded_src[:, :, :3]\n\n        rgb2 = self.light_source.shade_rgb(rgb, elevation,\n                                           fraction=self.fraction)\n\n        tgt = np.empty_like(padded_src)\n        tgt[:, :, :3] = rgb2\n        tgt[:, :, 3] = padded_src[:, :, 3]\n\n        return tgt\n\n\nclass GrowFilter(BaseFilter):\n    \"enlarge the area\"\n\n    def __init__(self, pixels, color=None):\n        self.pixels = pixels\n        if color is None:\n            self.color = (1, 1, 1)\n        else:\n            self.color = color\n\n    def __call__(self, im, dpi):\n        pad = self.pixels\n        ny, nx, depth = im.shape\n        new_im = np.empty([pad*2 + ny, pad*2 + nx, depth], dtype=\"d\")\n        alpha = new_im[:, :, 3]\n        alpha.fill(0)\n        alpha[pad:-pad, pad:-pad] = im[:, :, -1]\n        alpha2 = np.clip(smooth2d(alpha, self.pixels/72.*dpi) * 5, 0, 1)\n        new_im[:, :, -1] = alpha2\n        new_im[:, :, :-1] = self.color\n        offsetx, offsety = -pad, -pad\n\n        return new_im, offsetx, offsety\n\n\nclass FilteredArtistList(Artist):\n    \"\"\"\n    A simple container to draw filtered artist.\n    \"\"\"\n\n    def __init__(self, artist_list, filter):\n        self._artist_list = artist_list\n        self._filter = filter\n        Artist.__init__(self)\n\n    def draw(self, renderer):\n        renderer.start_rasterizing()\n        renderer.start_filter()\n        for a in self._artist_list:\n            a.draw(renderer)\n        renderer.stop_filter(self._filter)\n        renderer.stop_rasterizing()\n\n\ndef filtered_text(ax):\n    # mostly copied from contour_demo.py\n\n    # prepare image\n    delta = 0.025\n    x = np.arange(-3.0, 3.0, delta)\n    y = np.arange(-2.0, 2.0, delta)\n    X, Y = np.meshgrid(x, y)\n    Z1 = np.exp(-X**2 - Y**2)\n    Z2 = np.exp(-(X - 1)**2 - (Y - 1)**2)\n    Z = (Z1 - Z2) * 2\n\n    # draw\n    im = ax.imshow(Z, interpolation='bilinear', origin='lower',\n                   cmap=cm.gray, extent=(-3, 3, -2, 2))\n    levels = np.arange(-1.2, 1.6, 0.2)\n    CS = ax.contour(Z, levels,\n                    origin='lower',\n                    linewidths=2,\n                    extent=(-3, 3, -2, 2))\n\n    ax.set_aspect(\"auto\")\n\n    # contour label\n    cl = ax.clabel(CS, levels[1::2],  # label every second level\n                   inline=1,\n                   fmt='%1.1f',\n                   fontsize=11)\n\n    # change clable color to black\n    from matplotlib.patheffects import Normal\n    for t in cl:\n        t.set_color(\"k\")\n        # to force TextPath (i.e., same font in all backends)\n        t.set_path_effects([Normal()])\n\n    # Add white glows to improve visibility of labels.\n    white_glows = FilteredArtistList(cl, GrowFilter(3))\n    ax.add_artist(white_glows)\n    white_glows.set_zorder(cl[0].get_zorder() - 0.1)\n\n    ax.xaxis.set_visible(False)\n    ax.yaxis.set_visible(False)\n\n\ndef drop_shadow_line(ax):\n    # copied from examples/misc/svg_filter_line.py\n\n    # draw lines\n    l1, = ax.plot([0.1, 0.5, 0.9], [0.1, 0.9, 0.5], \"bo-\",\n                  mec=\"b\", mfc=\"w\", lw=5, mew=3, ms=10, label=\"Line 1\")\n    l2, = ax.plot([0.1, 0.5, 0.9], [0.5, 0.2, 0.7], \"ro-\",\n                  mec=\"r\", mfc=\"w\", lw=5, mew=3, ms=10, label=\"Line 1\")\n\n    gauss = DropShadowFilter(4)\n\n    for l in [l1, l2]:\n\n        # draw shadows with same lines with slight offset.\n\n        xx = l.get_xdata()\n        yy = l.get_ydata()\n        shadow, = ax.plot(xx, yy)\n        shadow.update_from(l)\n\n        # offset transform\n        ot = mtransforms.offset_copy(l.get_transform(), ax.figure,\n                                     x=4.0, y=-6.0, units='points')\n\n        shadow.set_transform(ot)\n\n        # adjust zorder of the shadow lines so that it is drawn below the\n        # original lines\n        shadow.set_zorder(l.get_zorder() - 0.5)\n        shadow.set_agg_filter(gauss)\n        shadow.set_rasterized(True)  # to support mixed-mode renderers\n\n    ax.set_xlim(0., 1.)\n    ax.set_ylim(0., 1.)\n\n    ax.xaxis.set_visible(False)\n    ax.yaxis.set_visible(False)\n\n\ndef drop_shadow_patches(ax):\n    # Copied from barchart_demo.py\n    N = 5\n    menMeans = (20, 35, 30, 35, 27)\n\n    ind = np.arange(N)  # the x locations for the groups\n    width = 0.35       # the width of the bars\n\n    rects1 = ax.bar(ind, menMeans, width, color='r', ec=\"w\", lw=2)\n\n    womenMeans = (25, 32, 34, 20, 25)\n    rects2 = ax.bar(ind + width + 0.1, womenMeans, width,\n                    color='y', ec=\"w\", lw=2)\n\n    # gauss = GaussianFilter(1.5, offsets=(1,1), )\n    gauss = DropShadowFilter(5, offsets=(1, 1), )\n    shadow = FilteredArtistList(rects1 + rects2, gauss)\n    ax.add_artist(shadow)\n    shadow.set_zorder(rects1[0].get_zorder() - 0.1)\n\n    ax.set_ylim(0, 40)\n\n    ax.xaxis.set_visible(False)\n    ax.yaxis.set_visible(False)\n\n\ndef light_filter_pie(ax):\n    fracs = [15, 30, 45, 10]\n    explode = (0, 0.05, 0, 0)\n    pies = ax.pie(fracs, explode=explode)\n    ax.patch.set_visible(True)\n\n    light_filter = LightFilter(9)\n    for p in pies[0]:\n        p.set_agg_filter(light_filter)\n        p.set_rasterized(True)  # to support mixed-mode renderers\n        p.set(ec=\"none\",\n              lw=2)\n\n    gauss = DropShadowFilter(9, offsets=(3, 4), alpha=0.7)\n    shadow = FilteredArtistList(pies[0], gauss)\n    ax.add_artist(shadow)\n    shadow.set_zorder(pies[0][0].get_zorder() - 0.1)\n\n\nif 1:\n\n    plt.figure(1, figsize=(6, 6))\n    plt.subplots_adjust(left=0.05, right=0.95)\n\n    ax = plt.subplot(221)\n    filtered_text(ax)\n\n    ax = plt.subplot(222)\n    drop_shadow_line(ax)\n\n    ax = plt.subplot(223)\n    drop_shadow_patches(ax)\n\n    ax = plt.subplot(224)\n    ax.set_aspect(1)\n    light_filter_pie(ax)\n    ax.set_frame_on(True)\n\n    plt.show()"
      ]
    }
  ],
  "metadata": {
    "kernelspec": {
      "display_name": "Python 3",
      "language": "python",
      "name": "python3"
    },
    "language_info": {
      "codemirror_mode": {
        "name": "ipython",
        "version": 3
      },
      "file_extension": ".py",
      "mimetype": "text/x-python",
      "name": "python",
      "nbconvert_exporter": "python",
      "pygments_lexer": "ipython3",
      "version": "3.6.5"
    }
  },
  "nbformat": 4,
  "nbformat_minor": 0
}