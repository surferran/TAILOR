{
  "cells": [
    {
      "cell_type": "code",
      "execution_count": null,
      "metadata": {
        "collapsed": false
      },
      "outputs": [],
      "source": [
        "%matplotlib inline"
      ]
    },
    {
      "cell_type": "markdown",
      "metadata": {},
      "source": [
        "\n# Demo Text Path\n\n\n\n"
      ]
    },
    {
      "cell_type": "code",
      "execution_count": null,
      "metadata": {
        "collapsed": false
      },
      "outputs": [],
      "source": [
        "import matplotlib.pyplot as plt\nfrom matplotlib.image import BboxImage\nimport numpy as np\nfrom matplotlib.transforms import IdentityTransform\n\nimport matplotlib.patches as mpatches\n\nfrom matplotlib.offsetbox import AnnotationBbox,\\\n    AnchoredOffsetbox, AuxTransformBox\n\nfrom matplotlib.cbook import get_sample_data\n\nfrom matplotlib.text import TextPath\n\n\nclass PathClippedImagePatch(mpatches.PathPatch):\n    \"\"\"\n    The given image is used to draw the face of the patch. Internally,\n    it uses BboxImage whose clippath set to the path of the patch.\n\n    FIXME : The result is currently dpi dependent.\n    \"\"\"\n\n    def __init__(self, path, bbox_image, **kwargs):\n        mpatches.PathPatch.__init__(self, path, **kwargs)\n        self._init_bbox_image(bbox_image)\n\n    def set_facecolor(self, color):\n        \"\"\"simply ignore facecolor\"\"\"\n        mpatches.PathPatch.set_facecolor(self, \"none\")\n\n    def _init_bbox_image(self, im):\n\n        bbox_image = BboxImage(self.get_window_extent,\n                               norm=None,\n                               origin=None,\n                               )\n        bbox_image.set_transform(IdentityTransform())\n\n        bbox_image.set_data(im)\n        self.bbox_image = bbox_image\n\n    def draw(self, renderer=None):\n\n        # the clip path must be updated every draw. any solution? -JJ\n        self.bbox_image.set_clip_path(self._path, self.get_transform())\n        self.bbox_image.draw(renderer)\n\n        mpatches.PathPatch.draw(self, renderer)\n\n\nif 1:\n\n    usetex = plt.rcParams[\"text.usetex\"]\n\n    fig = plt.figure(1)\n\n    # EXAMPLE 1\n\n    ax = plt.subplot(211)\n\n    from matplotlib._png import read_png\n    fn = get_sample_data(\"grace_hopper.png\", asfileobj=False)\n    arr = read_png(fn)\n\n    text_path = TextPath((0, 0), \"!?\", size=150)\n    p = PathClippedImagePatch(text_path, arr, ec=\"k\",\n                              transform=IdentityTransform())\n\n    # p.set_clip_on(False)\n\n    # make offset box\n    offsetbox = AuxTransformBox(IdentityTransform())\n    offsetbox.add_artist(p)\n\n    # make anchored offset box\n    ao = AnchoredOffsetbox(loc=2, child=offsetbox, frameon=True, borderpad=0.2)\n    ax.add_artist(ao)\n\n    # another text\n    from matplotlib.patches import PathPatch\n    if usetex:\n        r = r\"\\mbox{textpath supports mathtext \\& \\TeX}\"\n    else:\n        r = r\"textpath supports mathtext & TeX\"\n\n    text_path = TextPath((0, 0), r,\n                         size=20, usetex=usetex)\n\n    p1 = PathPatch(text_path, ec=\"w\", lw=3, fc=\"w\", alpha=0.9,\n                   transform=IdentityTransform())\n    p2 = PathPatch(text_path, ec=\"none\", fc=\"k\",\n                   transform=IdentityTransform())\n\n    offsetbox2 = AuxTransformBox(IdentityTransform())\n    offsetbox2.add_artist(p1)\n    offsetbox2.add_artist(p2)\n\n    ab = AnnotationBbox(offsetbox2, (0.95, 0.05),\n                        xycoords='axes fraction',\n                        boxcoords=\"offset points\",\n                        box_alignment=(1., 0.),\n                        frameon=False\n                        )\n    ax.add_artist(ab)\n\n    ax.imshow([[0, 1, 2], [1, 2, 3]], cmap=plt.cm.gist_gray_r,\n              interpolation=\"bilinear\",\n              aspect=\"auto\")\n\n    # EXAMPLE 2\n\n    ax = plt.subplot(212)\n\n    arr = np.arange(256).reshape(1, 256)/256.\n\n    if usetex:\n        s = (r\"$\\displaystyle\\left[\\sum_{n=1}^\\infty\"\n             r\"\\frac{-e^{i\\pi}}{2^n}\\right]$!\")\n    else:\n        s = r\"$\\left[\\sum_{n=1}^\\infty\\frac{-e^{i\\pi}}{2^n}\\right]$!\"\n    text_path = TextPath((0, 0), s, size=40, usetex=usetex)\n    text_patch = PathClippedImagePatch(text_path, arr, ec=\"none\",\n                                       transform=IdentityTransform())\n\n    shadow1 = mpatches.Shadow(text_patch, 1, -1,\n                              props=dict(fc=\"none\", ec=\"0.6\", lw=3))\n    shadow2 = mpatches.Shadow(text_patch, 1, -1,\n                              props=dict(fc=\"0.3\", ec=\"none\"))\n\n    # make offset box\n    offsetbox = AuxTransformBox(IdentityTransform())\n    offsetbox.add_artist(shadow1)\n    offsetbox.add_artist(shadow2)\n    offsetbox.add_artist(text_patch)\n\n    # place the anchored offset box using AnnotationBbox\n    ab = AnnotationBbox(offsetbox, (0.5, 0.5),\n                        xycoords='data',\n                        boxcoords=\"offset points\",\n                        box_alignment=(0.5, 0.5),\n                        )\n    # text_path.set_size(10)\n\n    ax.add_artist(ab)\n\n    ax.set_xlim(0, 1)\n    ax.set_ylim(0, 1)\n\n    plt.draw()\n    plt.show()"
      ]
    }
  ],
  "metadata": {
    "kernelspec": {
      "display_name": "Python 3",
      "language": "python",
      "name": "python3"
    },
    "language_info": {
      "codemirror_mode": {
        "name": "ipython",
        "version": 3
      },
      "file_extension": ".py",
      "mimetype": "text/x-python",
      "name": "python",
      "nbconvert_exporter": "python",
      "pygments_lexer": "ipython3",
      "version": "3.6.5"
    }
  },
  "nbformat": 4,
  "nbformat_minor": 0
}